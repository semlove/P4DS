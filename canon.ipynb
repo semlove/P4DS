{
 "cells": [
  {
   "cell_type": "code",
   "execution_count": 1,
   "metadata": {},
   "outputs": [
    {
     "name": "stdout",
     "output_type": "stream",
     "text": [
      "    x1   x2   y1   y2\n",
      "0  1.0  1.0  1.0  1.0\n",
      "1  7.0  1.0  7.0  1.0\n",
      "2  4.6  5.6  7.0  7.0\n",
      "3  1.0  6.6  1.0  5.9\n",
      "4  7.0  4.9  7.0  2.0\n",
      "5  7.0  7.0  6.4  3.8\n",
      "6  7.0  1.0  7.0  1.0\n",
      "7  7.0  1.0  2.4  1.0\n"
     ]
    }
   ],
   "source": [
    "import numpy as np\n",
    "import pandas as pd\n",
    "from sklearn.cross_decomposition import CCA\n",
    "ch52=pd.read_csv(\"C:/gskim/P4DS/data/ch52.csv\")\n",
    "print(ch52)"
   ]
  },
  {
   "cell_type": "code",
   "execution_count": 2,
   "metadata": {},
   "outputs": [
    {
     "data": {
      "text/plain": [
       "<Figure size 600x600 with 16 Axes>"
      ]
     },
     "metadata": {},
     "output_type": "display_data"
    }
   ],
   "source": [
    "import matplotlib.pyplot as plt\n",
    "from pandas.plotting import scatter_matrix\n",
    "palette = {0: \"red\", 1: \"yellow\", 2: \"blue\"}\n",
    "matrix_of_scatterplots = scatter_matrix(ch52[['x1', 'x2', 'y1', 'y2']], figsize=(6,6), diagonal = 'kde')     \n",
    "plt.show()"
   ]
  },
  {
   "cell_type": "code",
   "execution_count": 3,
   "metadata": {},
   "outputs": [
    {
     "name": "stdout",
     "output_type": "stream",
     "text": [
      "[[ 1.         -0.16105148  0.75804843 -0.37232933]\n",
      " [-0.16105148  1.          0.10964393  0.82231686]\n",
      " [ 0.75804843  0.10964393  1.          0.01079424]\n",
      " [-0.37232933  0.82231686  0.01079424  1.        ]]\n"
     ]
    }
   ],
   "source": [
    "import statsmodels.graphics.api as smg\n",
    "corr_matrix=np.corrcoef(ch52.T)\n",
    "print(corr_matrix)"
   ]
  },
  {
   "cell_type": "code",
   "execution_count": 4,
   "metadata": {},
   "outputs": [
    {
     "data": {
      "image/png": "[encoded data removed]",
      "text/plain": [
       "<Figure size 720x504 with 2 Axes>"
      ]
     },
     "metadata": {
      "needs_background": "light"
     },
     "output_type": "display_data"
    }
   ],
   "source": [
    "import seaborn as sns\n",
    "corr = ch52.corr()\n",
    "# Set up the matplotlib figure\n",
    "f, ax = plt.subplots(figsize=(10, 7))\n",
    "\n",
    "# Draw the heatmap with the mask and correct aspect ratio\n",
    "with sns.axes_style(\"white\"):\n",
    "    sns.heatmap(corr, vmax=1, cmap='YlGnBu', square=True, linewidths=.3)"
   ]
  },
  {
   "cell_type": "code",
   "execution_count": 5,
   "metadata": {},
   "outputs": [],
   "source": [
    "# Data Frame\n",
    "X=ch52[['x1','x2']]\n",
    "Y=ch52[['y1','y2']]"
   ]
  },
  {
   "cell_type": "code",
   "execution_count": 6,
   "metadata": {},
   "outputs": [],
   "source": [
    "import numpy as np\n",
    "import matplotlib.pyplot as plt\n",
    "from sklearn.cross_decomposition import PLSCanonical, PLSRegression, CCA"
   ]
  },
  {
   "cell_type": "code",
   "execution_count": 7,
   "metadata": {},
   "outputs": [],
   "source": [
    "cca = CCA(n_components=1)\n",
    "cca.fit(X, Y)\n",
    "X_c, Y_c = cca.transform(X, Y)"
   ]
  },
  {
   "cell_type": "code",
   "execution_count": 8,
   "metadata": {},
   "outputs": [
    {
     "name": "stdout",
     "output_type": "stream",
     "text": [
      "[[-0.59093855]\n",
      " [ 1.09326534]\n",
      " [-0.65696117]\n",
      " [-1.90151501]\n",
      " [ 0.18054244]\n",
      " [-0.31092373]\n",
      " [ 1.09326534]\n",
      " [ 1.09326534]]\n"
     ]
    }
   ],
   "source": [
    "print(X_c)"
   ]
  },
  {
   "cell_type": "code",
   "execution_count": 9,
   "metadata": {},
   "outputs": [
    {
     "name": "stdout",
     "output_type": "stream",
     "text": [
      "[[-0.08633813]\n",
      " [ 1.03919319]\n",
      " [-1.03714248]\n",
      " [-1.78201226]\n",
      " [ 0.69313724]\n",
      " [-0.04231659]\n",
      " [ 1.03919319]\n",
      " [ 0.17628584]]\n"
     ]
    }
   ],
   "source": [
    "print(Y_c)"
   ]
  },
  {
   "cell_type": "code",
   "execution_count": 14,
   "metadata": {},
   "outputs": [
    {
     "data": {
      "text/plain": [
       "0.793463638651817"
      ]
     },
     "execution_count": 14,
     "metadata": {},
     "output_type": "execute_result"
    }
   ],
   "source": [
    "cca.score(X_c, Y_c)"
   ]
  },
  {
   "cell_type": "code",
   "execution_count": 18,
   "metadata": {},
   "outputs": [
    {
     "name": "stdout",
     "output_type": "stream",
     "text": [
      "0.8967318193259085\n"
     ]
    }
   ],
   "source": [
    "result=np.corrcoef(X_c.T, Y_c.T)[0,1]\n",
    "print(result)"
   ]
  },
  {
   "cell_type": "code",
   "execution_count": 19,
   "metadata": {},
   "outputs": [
    {
     "data": {
      "text/plain": [
       "<matplotlib.legend.Legend at 0x2a5f180e848>"
      ]
     },
     "execution_count": 19,
     "metadata": {},
     "output_type": "execute_result"
    },
    {
     "data": {
      "image/png": "[encoded data removed]",
      "text/plain": [
       "<Figure size 864x576 with 1 Axes>"
      ]
     },
     "metadata": {},
     "output_type": "display_data"
    }
   ],
   "source": [
    "plt.figure(figsize=(12, 8))\n",
    "plt.subplot(221)\n",
    "plt.scatter(X, Y, label=\"Cannonical Correlation\",\n",
    "            marker=\"o\", c=\"r\", s=10)\n",
    "plt.xlabel(\"x scores\")\n",
    "plt.ylabel(\"y scores\")\n",
    "plt.xticks(())\n",
    "plt.yticks(())\n",
    "plt.legend(loc=\"best\")"
   ]
  }
 ],
 "metadata": {
  "kernelspec": {
   "display_name": "Python 3",
   "language": "python",
   "name": "python3"
  },
  "language_info": {
   "codemirror_mode": {
    "name": "ipython",
    "version": 3
   },
   "file_extension": ".py",
   "mimetype": "text/x-python",
   "name": "python",
   "nbconvert_exporter": "python",
   "pygments_lexer": "ipython3",
   "version": "3.7.7"
  }
 },
 "nbformat": 4,
 "nbformat_minor": 2
}
