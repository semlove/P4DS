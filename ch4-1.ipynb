{
 "cells": [
  {
   "cell_type": "code",
   "execution_count": 1,
   "metadata": {},
   "outputs": [],
   "source": [
    "import pandas as pd\n",
    "df=pd.read_csv('C:/gskim/P4DS/data/ch41.csv')"
   ]
  },
  {
   "cell_type": "code",
   "execution_count": 2,
   "metadata": {
    "scrolled": true
   },
   "outputs": [
    {
     "name": "stdout",
     "output_type": "stream",
     "text": [
      "   Gender   IQ  RECORD1  Weight  Reading  RECORD2\n",
      "0  Female  132       85      45        5       87\n",
      "1  Female  110       63      56        4       70\n",
      "2  Female  123       92      54        6       95\n",
      "3  Female  100       40      47        0       60\n",
      "4  Female  115       76      50        1       80\n"
     ]
    }
   ],
   "source": [
    "df.head() # 상단의 5개의 데이터 확인하기\n",
    "print(df.head())"
   ]
  },
  {
   "cell_type": "code",
   "execution_count": 3,
   "metadata": {},
   "outputs": [
    {
     "name": "stdout",
     "output_type": "stream",
     "text": [
      "               IQ    RECORD1     Weight    Reading   RECORD2\n",
      "count   20.000000  20.000000  20.000000  20.000000  20.00000\n",
      "mean   117.550000  77.550000  59.000000   3.100000  83.00000\n",
      "std     11.655019  14.848268   8.553239   1.744163  11.12134\n",
      "min     98.000000  40.000000  45.000000   0.000000  60.00000\n",
      "25%    110.000000  69.500000  50.000000   2.000000  78.75000\n",
      "50%    120.000000  81.000000  61.000000   3.000000  85.50000\n",
      "75%    125.750000  86.000000  65.000000   4.250000  88.25000\n",
      "max    135.000000  98.000000  75.000000   6.000000  98.00000\n"
     ]
    }
   ],
   "source": [
    "# padas 에서 제공하는 설명 통계\n",
    "df.describe()\n",
    "print(df.describe())"
   ]
  },
  {
   "cell_type": "code",
   "execution_count": 4,
   "metadata": {},
   "outputs": [],
   "source": [
    "import pandas as pd\n",
    "import numpy as np\n",
    "x = np.array([[ 8,  42,  35, 8],\n",
    "             [13,  39,  39, 41],\n",
    "             [20,  17,  5, 24]])"
   ]
  },
  {
   "cell_type": "code",
   "execution_count": 5,
   "metadata": {},
   "outputs": [
    {
     "data": {
      "text/plain": [
       "24.25"
      ]
     },
     "execution_count": 5,
     "metadata": {},
     "output_type": "execute_result"
    }
   ],
   "source": [
    "np.mean(x)"
   ]
  },
  {
   "cell_type": "code",
   "execution_count": 6,
   "metadata": {},
   "outputs": [
    {
     "data": {
      "text/plain": [
       "186.85416666666666"
      ]
     },
     "execution_count": 6,
     "metadata": {},
     "output_type": "execute_result"
    }
   ],
   "source": [
    "np.var(x)"
   ]
  },
  {
   "cell_type": "code",
   "execution_count": 7,
   "metadata": {},
   "outputs": [
    {
     "data": {
      "text/plain": [
       "13.669461096424637"
      ]
     },
     "execution_count": 7,
     "metadata": {},
     "output_type": "execute_result"
    }
   ],
   "source": [
    "np.std(x)"
   ]
  },
  {
   "cell_type": "code",
   "execution_count": 8,
   "metadata": {},
   "outputs": [
    {
     "name": "stdout",
     "output_type": "stream",
     "text": [
      "Ttest_1sampResult(statistic=-0.940087086609186, pvalue=0.35897199519934586)\n"
     ]
    }
   ],
   "source": [
    "from scipy import stats\n",
    "## Student’s t-test: the simplest statistical test\n",
    "stats.ttest_1samp(df['IQ'],120)\n",
    "\n",
    "# IQ의 평균값이 120인지 아닌지 가설검정\n",
    "print(stats.ttest_1samp(df['IQ'],120))"
   ]
  },
  {
   "cell_type": "code",
   "execution_count": 9,
   "metadata": {},
   "outputs": [
    {
     "name": "stdout",
     "output_type": "stream",
     "text": [
      "Ttest_indResult(statistic=-0.279100083829257, pvalue=0.7833494593310769)\n"
     ]
    }
   ],
   "source": [
    "# 여자의 RECORD1\n",
    "female_rec = df[df['Gender'] == 'Female']['RECORD1']\n",
    "# 남자의 RECORD1\n",
    "male_rec= df[df['Gender'] == 'Male']['RECORD1']\n",
    "# 두개의 리스트를 가지고 t-test실행\n",
    "result=stats.ttest_ind(female_rec, male_rec)\n",
    "print(result)"
   ]
  },
  {
   "cell_type": "code",
   "execution_count": 10,
   "metadata": {},
   "outputs": [
    {
     "name": "stdout",
     "output_type": "stream",
     "text": [
      "Female         AxesSubplot(0.1,0.15;0.363636x0.75)\n",
      "Male      AxesSubplot(0.536364,0.15;0.363636x0.75)\n",
      "dtype: object\n"
     ]
    },
    {
     "data": {
      "text/plain": [
       "<Figure size 640x480 with 2 Axes>"
      ]
     },
     "metadata": {},
     "output_type": "display_data"
    }
   ],
   "source": [
    "import matplotlib.pyplot as plt\n",
    "# Box plots of different columns for each gender\n",
    "groupby_gender = df.groupby('Gender')\n",
    "result1=groupby_gender.boxplot(column=['RECORD1'])\n",
    "print(result1)\n",
    "plt.show()"
   ]
  },
  {
   "cell_type": "code",
   "execution_count": 11,
   "metadata": {},
   "outputs": [
    {
     "name": "stdout",
     "output_type": "stream",
     "text": [
      "Ttest_relResult(statistic=-5.059337216649712, pvalue=6.964545870702796e-05)\n",
      "77.55\n",
      "83.0\n"
     ]
    }
   ],
   "source": [
    "# 중간고사\n",
    "rec1 = df['RECORD1']\n",
    "# 기말고사\n",
    "rec2= df['RECORD2']\n",
    "# 두개의 리스트를 가지고 쌍체 t-test실행\n",
    "result2=stats.ttest_rel(rec1,rec2)\n",
    "print(result2)\n",
    "print(rec1.mean())\n",
    "print(rec2.mean())"
   ]
  },
  {
   "cell_type": "code",
   "execution_count": 12,
   "metadata": {},
   "outputs": [
    {
     "name": "stdout",
     "output_type": "stream",
     "text": [
      "Gender   Female  Male\n",
      "Reading              \n",
      "0             1     0\n",
      "1             2     1\n",
      "2             1     3\n",
      "3             1     3\n",
      "4             2     1\n",
      "5             1     2\n",
      "6             2     0\n",
      "Chi-square 6.00 p-value 0.423\n"
     ]
    }
   ],
   "source": [
    "import pandas as pd\n",
    "ch41=pd.read_csv('C:/gskim/P4DS/data/ch41.csv')\n",
    "from scipy.stats import chi2_contingency\n",
    "ch41_dataframe=pd.DataFrame(ch41, columns=['Gender', 'Reading'])\n",
    "table=pd.crosstab(ch41_dataframe['Reading'],\n",
    "                 ch41_dataframe['Gender'])\n",
    "print(table)\n",
    "chi2, p, dof, expected = chi2_contingency(table.values)\n",
    "print('Chi-square %0.2f p-value %0.3f' % (chi2, p))"
   ]
  },
  {
   "cell_type": "code",
   "execution_count": null,
   "metadata": {},
   "outputs": [],
   "source": []
  }
 ],
 "metadata": {
  "kernelspec": {
   "display_name": "Python 3",
   "language": "python",
   "name": "python3"
  },
  "language_info": {
   "codemirror_mode": {
    "name": "ipython",
    "version": 3
   },
   "file_extension": ".py",
   "mimetype": "text/x-python",
   "name": "python",
   "nbconvert_exporter": "python",
   "pygments_lexer": "ipython3",
   "version": "3.7.7"
  }
 },
 "nbformat": 4,
 "nbformat_minor": 2
}
