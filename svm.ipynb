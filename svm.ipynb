{
 "cells": [
  {
   "cell_type": "code",
   "execution_count": 1,
   "metadata": {},
   "outputs": [],
   "source": [
    "import pandas as pd\n",
    "from sklearn import datasets\n",
    "from sklearn import model_selection\n",
    "from sklearn import metrics\n",
    "import matplotlib.pyplot as plt\n",
    "%matplotlib inline\n",
    "# Data set loading\n",
    "digits = datasets.load_digits()\n"
   ]
  },
  {
   "cell_type": "code",
   "execution_count": 2,
   "metadata": {},
   "outputs": [
    {
     "data": {
      "image/png": "[encoded data removed]",
      "text/plain": [
       "<Figure size 432x288 with 10 Axes>"
      ]
     },
     "metadata": {
      "needs_background": "light"
     },
     "output_type": "display_data"
    }
   ],
   "source": [
    "# Display the first ten number as an example of the data\n",
    "for k,img in enumerate(range(10)):\n",
    "    plt.subplot(2, 5, k+1)\n",
    "    plt.imshow(digits.images[img],\n",
    "               cmap='binary',\n",
    "              interpolation='none')\n",
    "plt.show()"
   ]
  },
  {
   "cell_type": "code",
   "execution_count": 3,
   "metadata": {},
   "outputs": [
    {
     "name": "stdout",
     "output_type": "stream",
     "text": [
      "<class 'pandas.core.frame.DataFrame'>\n",
      "RangeIndex: 1797 entries, 0 to 1796\n",
      "Data columns (total 64 columns):\n",
      "0     1797 non-null float64\n",
      "1     1797 non-null float64\n",
      "2     1797 non-null float64\n",
      "3     1797 non-null float64\n",
      "4     1797 non-null float64\n",
      "5     1797 non-null float64\n",
      "6     1797 non-null float64\n",
      "7     1797 non-null float64\n",
      "8     1797 non-null float64\n",
      "9     1797 non-null float64\n",
      "10    1797 non-null float64\n",
      "11    1797 non-null float64\n",
      "12    1797 non-null float64\n",
      "13    1797 non-null float64\n",
      "14    1797 non-null float64\n",
      "15    1797 non-null float64\n",
      "16    1797 non-null float64\n",
      "17    1797 non-null float64\n",
      "18    1797 non-null float64\n",
      "19    1797 non-null float64\n",
      "20    1797 non-null float64\n",
      "21    1797 non-null float64\n",
      "22    1797 non-null float64\n",
      "23    1797 non-null float64\n",
      "24    1797 non-null float64\n",
      "25    1797 non-null float64\n",
      "26    1797 non-null float64\n",
      "27    1797 non-null float64\n",
      "28    1797 non-null float64\n",
      "29    1797 non-null float64\n",
      "30    1797 non-null float64\n",
      "31    1797 non-null float64\n",
      "32    1797 non-null float64\n",
      "33    1797 non-null float64\n",
      "34    1797 non-null float64\n",
      "35    1797 non-null float64\n",
      "36    1797 non-null float64\n",
      "37    1797 non-null float64\n",
      "38    1797 non-null float64\n",
      "39    1797 non-null float64\n",
      "40    1797 non-null float64\n",
      "41    1797 non-null float64\n",
      "42    1797 non-null float64\n",
      "43    1797 non-null float64\n",
      "44    1797 non-null float64\n",
      "45    1797 non-null float64\n",
      "46    1797 non-null float64\n",
      "47    1797 non-null float64\n",
      "48    1797 non-null float64\n",
      "49    1797 non-null float64\n",
      "50    1797 non-null float64\n",
      "51    1797 non-null float64\n",
      "52    1797 non-null float64\n",
      "53    1797 non-null float64\n",
      "54    1797 non-null float64\n",
      "55    1797 non-null float64\n",
      "56    1797 non-null float64\n",
      "57    1797 non-null float64\n",
      "58    1797 non-null float64\n",
      "59    1797 non-null float64\n",
      "60    1797 non-null float64\n",
      "61    1797 non-null float64\n",
      "62    1797 non-null float64\n",
      "63    1797 non-null float64\n",
      "dtypes: float64(64)\n",
      "memory usage: 898.6 KB\n"
     ]
    },
    {
     "data": {
      "text/plain": [
       "0      1\n",
       "1      9\n",
       "2     17\n",
       "3     17\n",
       "4     17\n",
       "      ..\n",
       "59    17\n",
       "60    17\n",
       "61    17\n",
       "62    17\n",
       "63    17\n",
       "Length: 64, dtype: int64"
      ]
     },
     "execution_count": 3,
     "metadata": {},
     "output_type": "execute_result"
    }
   ],
   "source": [
    "# Data preparation\n",
    "X=pd.DataFrame(digits.data)\n",
    "y=pd.Series(digits.target, name='Actual')\n",
    "\n",
    "# Information of data\n",
    "X.dtypes\n",
    "X.info()\n",
    "X.describe()\n",
    "X.nunique()"
   ]
  },
  {
   "cell_type": "code",
   "execution_count": 4,
   "metadata": {},
   "outputs": [],
   "source": [
    "# preperation of train, test data set\n",
    "X_tr, X_t, y_tr, y_t = model_selection.train_test_split(X, y, test_size=0.30,\n",
    "random_state=0)"
   ]
  },
  {
   "cell_type": "code",
   "execution_count": 5,
   "metadata": {},
   "outputs": [],
   "source": [
    "# Model selection of analysis\n",
    "from sklearn.linear_model import LogisticRegression\n",
    "clf = LogisticRegression(solver='liblinear', multi_class='auto')\n",
    "# Model fitness\n",
    "clf.fit(X_tr, y_tr)\n",
    "# Forecasting depend on model\n",
    "y_pred = clf.predict(X_t)"
   ]
  },
  {
   "cell_type": "code",
   "execution_count": 7,
   "metadata": {},
   "outputs": [
    {
     "name": "stdout",
     "output_type": "stream",
     "text": [
      "LogisticRegression(C=1.0, class_weight=None, dual=False, fit_intercept=True,\n",
      "                   intercept_scaling=1, l1_ratio=None, max_iter=100,\n",
      "                   multi_class='auto', n_jobs=None, penalty='l2',\n",
      "                   random_state=None, solver='liblinear', tol=0.0001, verbose=0,\n",
      "                   warm_start=False) Result of Classification : \n",
      "              precision    recall  f1-score   support\n",
      "\n",
      "           0       1.00      1.00      1.00        45\n",
      "           1       0.89      0.90      0.90        52\n",
      "           2       0.96      0.96      0.96        53\n",
      "           3       0.93      0.96      0.95        54\n",
      "           4       0.98      1.00      0.99        48\n",
      "           5       0.98      0.96      0.97        57\n",
      "           6       0.95      0.98      0.97        60\n",
      "           7       1.00      0.94      0.97        53\n",
      "           8       0.92      0.90      0.91        61\n",
      "           9       0.95      0.93      0.94        57\n",
      "\n",
      "    accuracy                           0.95       540\n",
      "   macro avg       0.96      0.96      0.96       540\n",
      "weighted avg       0.95      0.95      0.95       540\n",
      "\n",
      "\n",
      "Accuracy:\n",
      "0.9537037037037037\n",
      "Confusion matrix:\n",
      "[[45  0  0  0  0  0  0  0  0  0]\n",
      " [ 0 47  0  0  0  0  2  0  3  0]\n",
      " [ 0  0 51  2  0  0  0  0  0  0]\n",
      " [ 0  0  1 52  0  0  0  0  0  1]\n",
      " [ 0  0  0  0 48  0  0  0  0  0]\n",
      " [ 0  1  0  0  0 55  1  0  0  0]\n",
      " [ 0  1  0  0  0  0 59  0  0  0]\n",
      " [ 0  1  0  1  1  0  0 50  0  0]\n",
      " [ 0  3  1  0  0  0  0  0 55  2]\n",
      " [ 0  0  0  1  0  1  0  0  2 53]]\n"
     ]
    }
   ],
   "source": [
    "# Model Identification \n",
    "print(\"{} Result of Classification : \\n{}\\n\".format(clf,metrics.classification_report(y_t, y_pred)))\n",
    "print(\"Accuracy:\\n{}\".format(metrics.accuracy_score(y_t, y_pred)))\n",
    "print(\"Confusion matrix:\\n{}\".format(metrics.confusion_matrix(y_t, y_pred)))"
   ]
  },
  {
   "cell_type": "code",
   "execution_count": 8,
   "metadata": {},
   "outputs": [
    {
     "data": {
      "text/plain": [
       "<matplotlib.axes._subplots.AxesSubplot at 0x24bbd3f8fc8>"
      ]
     },
     "execution_count": 8,
     "metadata": {},
     "output_type": "execute_result"
    },
    {
     "data": {
      "image/png": "[encoded data removed]",
      "text/plain": [
       "<Figure size 432x288 with 2 Axes>"
      ]
     },
     "metadata": {
      "needs_background": "light"
     },
     "output_type": "display_data"
    }
   ],
   "source": [
    "# visualization\n",
    "import seaborn as sns\n",
    "df = pd.DataFrame([y_t.reset_index()['Actual'],y_pred]).T\n",
    "df.columns=['y_t', 'y_pred']\n",
    "df_pivot=df.groupby(['y_t']).y_pred.value_counts().astype('int').unstack()\n",
    "sns.heatmap(df_pivot, annot=True)"
   ]
  },
  {
   "cell_type": "code",
   "execution_count": null,
   "metadata": {},
   "outputs": [],
   "source": []
  }
 ],
 "metadata": {
  "kernelspec": {
   "display_name": "Python 3",
   "language": "python",
   "name": "python3"
  },
  "language_info": {
   "codemirror_mode": {
    "name": "ipython",
    "version": 3
   },
   "file_extension": ".py",
   "mimetype": "text/x-python",
   "name": "python",
   "nbconvert_exporter": "python",
   "pygments_lexer": "ipython3",
   "version": "3.7.4"
  }
 },
 "nbformat": 4,
 "nbformat_minor": 2
}
