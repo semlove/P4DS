{
 "cells": [
  {
   "cell_type": "code",
   "execution_count": 1,
   "metadata": {},
   "outputs": [
    {
     "name": "stdout",
     "output_type": "stream",
     "text": [
      "0    11.0\n",
      "1    12.0\n",
      "2    13.0\n",
      "3    14.0\n",
      "4    15.0\n",
      "5    16.0\n",
      "6    17.0\n",
      "dtype: float64\n"
     ]
    }
   ],
   "source": [
    "import pandas as pd\n",
    "import numpy as np\n",
    "from sklearn.impute import SimpleImputer \n",
    "s=[[11, 12, 13, np.NaN, 15, 16, None]]\n",
    "imp = SimpleImputer(missing_values=np.nan, strategy='mean')\n",
    "imp.fit([[11, 12, 13, 14, 15, 16, 17]])\n",
    "x = pd.Series(imp.transform(s).tolist()[0])\n",
    "print(x)"
   ]
  },
  {
   "cell_type": "code",
   "execution_count": 2,
   "metadata": {},
   "outputs": [
    {
     "name": "stdout",
     "output_type": "stream",
     "text": [
      "  family  father  mother sex  height  nkids\n",
      "0      1    78.5    67.0   M    73.2      4\n",
      "1      1    78.5    67.0   F    69.2      4\n",
      "2      1    78.5    67.0   F    69.0      4\n",
      "3      1    78.5    67.0   F    69.0      4\n",
      "4      2    75.5    66.5   M    73.5      4\n",
      "Outliers using outliers_iqr()\n",
      "=============================\n",
      "    family  father  mother sex  height  nkids\n",
      "288     72    70.0    65.0   M    79.0      7\n"
     ]
    }
   ],
   "source": [
    "import numpy as np\n",
    "\n",
    "def outliers_iqr(data):\n",
    "    q1, q3 = np.percentile(data, [25, 75])\n",
    "    iqr = q3 - q1\n",
    "    lower_bound = q1 - (iqr * 1.5)\n",
    "    upper_bound = q3 + (iqr * 1.5)\n",
    "    return np.where((data > upper_bound) | (data < lower_bound))\n",
    "\n",
    "import pandas as pd\n",
    "df = pd.read_csv(\"C:/gskim/P4DS/data/galton.csv\")\n",
    "print(df.head())\n",
    "print(\"Outliers using outliers_iqr()\")\n",
    "print(\"=============================\")\n",
    "for i in outliers_iqr(df.height)[0]:\n",
    "    print(df[i:i+1])"
   ]
  },
  {
   "cell_type": "code",
   "execution_count": 3,
   "metadata": {},
   "outputs": [
    {
     "name": "stdout",
     "output_type": "stream",
     "text": [
      "     V1  V2  V3\n",
      "0   600   4   8\n",
      "1   900   3   9\n",
      "2  1000   2   3\n",
      "3   400   5   6\n",
      "4   700   6   9\n",
      "5   100  11  12\n",
      "6  1300  14  15\n",
      "7  1600  17  18\n",
      "8  1800  19  20\n",
      "         V1        V2        V3\n",
      "0  0.294118  0.117647  0.294118\n",
      "1  0.470588  0.058824  0.352941\n",
      "2  0.529412  0.000000  0.000000\n",
      "3  0.176471  0.176471  0.176471\n",
      "4  0.352941  0.235294  0.352941\n",
      "5  0.000000  0.529412  0.529412\n",
      "6  0.705882  0.705882  0.705882\n",
      "7  0.882353  0.882353  0.882353\n",
      "8  1.000000  1.000000  1.000000\n"
     ]
    }
   ],
   "source": [
    "import pandas as pd\n",
    "from sklearn import preprocessing\n",
    "\n",
    "df = pd.read_csv('C:/gskim/P4DS/data/norm.csv')\n",
    "print(df)\n",
    "\n",
    "x = df.values.astype(float)\n",
    "\n",
    "min_max_scaler = preprocessing.MinMaxScaler()\n",
    "x_scaled = min_max_scaler.fit_transform(x)\n",
    "df = pd.DataFrame(x_scaled, columns=df.columns)\n",
    "print(df)"
   ]
  },
  {
   "cell_type": "code",
   "execution_count": null,
   "metadata": {},
   "outputs": [],
   "source": []
  }
 ],
 "metadata": {
  "kernelspec": {
   "display_name": "Python 3",
   "language": "python",
   "name": "python3"
  },
  "language_info": {
   "codemirror_mode": {
    "name": "ipython",
    "version": 3
   },
   "file_extension": ".py",
   "mimetype": "text/x-python",
   "name": "python",
   "nbconvert_exporter": "python",
   "pygments_lexer": "ipython3",
   "version": "3.7.7"
  }
 },
 "nbformat": 4,
 "nbformat_minor": 2
}
