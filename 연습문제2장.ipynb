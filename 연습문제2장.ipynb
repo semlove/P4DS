{
 "cells": [
  {
   "cell_type": "code",
   "execution_count": 1,
   "metadata": {},
   "outputs": [
    {
     "data": {
      "text/plain": [
       "7.0"
      ]
     },
     "execution_count": 1,
     "metadata": {},
     "output_type": "execute_result"
    }
   ],
   "source": [
    "# 연습문제 2-2-1\n",
    "from numpy import linalg as LA\n",
    "v=([3,4])\n",
    "LA.norm(v,1)"
   ]
  },
  {
   "cell_type": "code",
   "execution_count": 2,
   "metadata": {},
   "outputs": [
    {
     "data": {
      "text/plain": [
       "7.0"
      ]
     },
     "execution_count": 2,
     "metadata": {},
     "output_type": "execute_result"
    }
   ],
   "source": [
    "# 연습문제 2-2-2\n",
    "from numpy import linalg as LA\n",
    "v=([3,4])\n",
    "LA.norm(v,1)"
   ]
  },
  {
   "cell_type": "code",
   "execution_count": 3,
   "metadata": {},
   "outputs": [
    {
     "name": "stdout",
     "output_type": "stream",
     "text": [
      "    fruit\n",
      "0   apple\n",
      "1  orange\n",
      "2  banana\n",
      "3   apple\n",
      "4   apple\n",
      "5  orange\n",
      "6  banana\n",
      "7    kiwi\n"
     ]
    }
   ],
   "source": [
    "# 연습문제 2-3-1\n",
    "import pandas as pd\n",
    "df = pd.ExcelFile(\"C:/gskim/P4DS/data/ex23.xls\")\n",
    "df = df.parse('ex23', index_col=None,\n",
    "                       na_values=['NA'])\n",
    "df = pd.DataFrame(df, columns=['fruit']) # fruit열 불러오기\n",
    "print(df)"
   ]
  },
  {
   "cell_type": "code",
   "execution_count": 5,
   "metadata": {
    "scrolled": true
   },
   "outputs": [
    {
     "name": "stdout",
     "output_type": "stream",
     "text": [
      "  name   fruit  st  rb  internet\n",
      "2  박길동  banana   7   3         1\n"
     ]
    }
   ],
   "source": [
    "# 연습문제 2-3-2\n",
    "import pandas as pd\n",
    "df = pd.ExcelFile(\"C:/gskim/P4DS/data/ex23.xls\")\n",
    "df = df.parse('ex23', index_col=None,\n",
    "                       na_values=['NA'])\n",
    "df = df.loc[df[\"st\"] > 6]\n",
    "print(df)"
   ]
  },
  {
   "cell_type": "code",
   "execution_count": null,
   "metadata": {},
   "outputs": [],
   "source": []
  }
 ],
 "metadata": {
  "kernelspec": {
   "display_name": "Python 3",
   "language": "python",
   "name": "python3"
  },
  "language_info": {
   "codemirror_mode": {
    "name": "ipython",
    "version": 3
   },
   "file_extension": ".py",
   "mimetype": "text/x-python",
   "name": "python",
   "nbconvert_exporter": "python",
   "pygments_lexer": "ipython3",
   "version": "3.7.7"
  }
 },
 "nbformat": 4,
 "nbformat_minor": 2
}
