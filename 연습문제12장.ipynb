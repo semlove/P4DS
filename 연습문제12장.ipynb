{
 "cells": [
  {
   "cell_type": "code",
   "execution_count": 1,
   "metadata": {},
   "outputs": [
    {
     "name": "stdout",
     "output_type": "stream",
     "text": [
      "<class 'pandas.core.frame.DataFrame'>\n",
      "RangeIndex: 768 entries, 0 to 767\n",
      "Data columns (total 9 columns):\n",
      " #   Column                    Non-Null Count  Dtype  \n",
      "---  ------                    --------------  -----  \n",
      " 0   Pregnancies               768 non-null    int64  \n",
      " 1   Glucose                   768 non-null    int64  \n",
      " 2   BloodPressure             768 non-null    int64  \n",
      " 3   SkinThickness             768 non-null    int64  \n",
      " 4   Insulin                   768 non-null    int64  \n",
      " 5   BMI                       768 non-null    float64\n",
      " 6   DiabetesPedigreeFunction  768 non-null    float64\n",
      " 7   Age                       768 non-null    int64  \n",
      " 8   Outcome                   768 non-null    int64  \n",
      "dtypes: float64(2), int64(7)\n",
      "memory usage: 54.1 KB\n",
      "Nulls\n",
      "=====\n",
      "Pregnancies                 0\n",
      "Glucose                     0\n",
      "BloodPressure               0\n",
      "SkinThickness               0\n",
      "Insulin                     0\n",
      "BMI                         0\n",
      "DiabetesPedigreeFunction    0\n",
      "Age                         0\n",
      "Outcome                     0\n",
      "dtype: int64\n",
      "0s\n",
      "==\n",
      "Pregnancies                 111\n",
      "Glucose                       5\n",
      "BloodPressure                35\n",
      "SkinThickness               227\n",
      "Insulin                     374\n",
      "BMI                          11\n",
      "DiabetesPedigreeFunction      0\n",
      "Age                           0\n",
      "Outcome                     500\n",
      "dtype: int64\n",
      "Pregnancies                 111\n",
      "Glucose                       0\n",
      "BloodPressure                 0\n",
      "SkinThickness                 0\n",
      "Insulin                       0\n",
      "BMI                           0\n",
      "DiabetesPedigreeFunction      0\n",
      "Age                           0\n",
      "Outcome                     500\n",
      "dtype: int64\n"
     ]
    }
   ],
   "source": [
    "#연습문제 12-2\n",
    "import numpy as np\n",
    "import pandas as pd\n",
    "from pandas import DataFrame\n",
    "\n",
    "df = pd.read_csv('C:/gskim/P4DS/data/diabetes.csv')\n",
    "df.info()\n",
    "#---check for null values---\n",
    "print(\"Nulls\")\n",
    "print(\"=====\")\n",
    "print(df.isnull().sum())\n",
    "#---check for 0s---\n",
    "print(\"0s\")\n",
    "print(\"==\")\n",
    "print(df.eq(0).sum())\n",
    "\n",
    "df[['Glucose','BloodPressure','SkinThickness',\n",
    "    'Insulin','BMI','DiabetesPedigreeFunction','Age']] = \\\n",
    "    df[['Glucose','BloodPressure','SkinThickness',\n",
    "        'Insulin','BMI','DiabetesPedigreeFunction','Age']].replace(0,np.NaN)\n",
    "df.fillna(df.mean(), inplace = True)   # replace NaN with the mean\n",
    "\n",
    "print(df.eq(0).sum())\n",
    "\n",
    "\n",
    "#---features---\n",
    "X = df[['Glucose', 'BloodPressure', 'SkinThickness', 'BMI', 'DiabetesPedigreeFunction', 'Age']]\n",
    "\n",
    "#---label---\n",
    "y = df.iloc[:,4]"
   ]
  },
  {
   "cell_type": "code",
   "execution_count": 4,
   "metadata": {},
   "outputs": [
    {
     "name": "stdout",
     "output_type": "stream",
     "text": [
      "0.7669856459330144\n"
     ]
    }
   ],
   "source": [
    "# Logistic Regression\n",
    "from sklearn import linear_model\n",
    "from sklearn.model_selection import cross_val_score\n",
    "\n",
    "#---features---\n",
    "X = df[['Glucose','BMI','Age']]\n",
    "\n",
    "#---label---\n",
    "y = df.iloc[:,8]\n",
    "\n",
    "log_regress = linear_model.LogisticRegression()\n",
    "log_regress_score = cross_val_score(log_regress, X, y, cv=10, scoring='accuracy').mean()\n",
    "\n",
    "print(log_regress_score)\n"
   ]
  },
  {
   "cell_type": "code",
   "execution_count": 5,
   "metadata": {},
   "outputs": [
    {
     "name": "stdout",
     "output_type": "stream",
     "text": [
      "The optimal number of neighbors is 19\n",
      "0.7721462747778537\n"
     ]
    }
   ],
   "source": [
    "# K-Nearest Neighbors\n",
    "from sklearn.neighbors import KNeighborsClassifier\n",
    "\n",
    "#---empty list that will hold cv (cross-validates) scores---\n",
    "cv_scores = []\n",
    "\n",
    "#---number of folds---\n",
    "folds = 10\n",
    "\n",
    "#---creating odd list of K for KNN---\n",
    "ks = list(range(1,int(len(X) * ((folds - 1)/folds)), 2))\n",
    "\n",
    "#---perform k-fold cross validation---\n",
    "for k in ks:\n",
    "    knn = KNeighborsClassifier(n_neighbors=k)\n",
    "    score = cross_val_score(knn, X, y, cv=folds, scoring='accuracy').mean()\n",
    "    cv_scores.append(score)\n",
    "\n",
    "#---get the maximum score---\n",
    "knn_score = max(cv_scores)\n",
    "\n",
    "#---find the optimal k that gives the highest score---\n",
    "optimal_k = ks[cv_scores.index(knn_score)]\n",
    "\n",
    "print(f\"The optimal number of neighbors is {optimal_k}\")\n",
    "print(knn_score)\n",
    "result.append(knn_score)\n"
   ]
  },
  {
   "cell_type": "code",
   "execution_count": 6,
   "metadata": {},
   "outputs": [
    {
     "name": "stdout",
     "output_type": "stream",
     "text": [
      "0.7656527682843473\n",
      "0.765704032809296\n"
     ]
    }
   ],
   "source": [
    "# Support Vector Machines\n",
    "from sklearn import svm\n",
    "\n",
    "linear_svm = svm.SVC(kernel='linear')\n",
    "linear_svm_score = cross_val_score(linear_svm, X, y,\n",
    "                                   cv=10, scoring='accuracy').mean()\n",
    "print(linear_svm_score)\n",
    "result.append(linear_svm_score)\n",
    "rbf = svm.SVC(kernel='rbf')\n",
    "rbf_score = cross_val_score(rbf, X, y, cv=10, scoring='accuracy').mean()\n",
    "print(rbf_score)\n",
    "result.append(rbf_score)\n"
   ]
  },
  {
   "cell_type": "code",
   "execution_count": 7,
   "metadata": {},
   "outputs": [
    {
     "data": {
      "text/html": [
       "<div>\n",
       "<style scoped>\n",
       "    .dataframe tbody tr th:only-of-type {\n",
       "        vertical-align: middle;\n",
       "    }\n",
       "\n",
       "    .dataframe tbody tr th {\n",
       "        vertical-align: top;\n",
       "    }\n",
       "\n",
       "    .dataframe thead th {\n",
       "        text-align: right;\n",
       "    }\n",
       "</style>\n",
       "<table border=\"1\" class=\"dataframe\">\n",
       "  <thead>\n",
       "    <tr style=\"text-align: right;\">\n",
       "      <th></th>\n",
       "      <th>Accuracy</th>\n",
       "    </tr>\n",
       "  </thead>\n",
       "  <tbody>\n",
       "    <tr>\n",
       "      <th>K Nearest Neighbors</th>\n",
       "      <td>0.772146</td>\n",
       "    </tr>\n",
       "    <tr>\n",
       "      <th>Logistic Regression</th>\n",
       "      <td>0.766986</td>\n",
       "    </tr>\n",
       "    <tr>\n",
       "      <th>SVM RBF Kernel</th>\n",
       "      <td>0.765704</td>\n",
       "    </tr>\n",
       "    <tr>\n",
       "      <th>SVM Linear Kernel</th>\n",
       "      <td>0.765653</td>\n",
       "    </tr>\n",
       "  </tbody>\n",
       "</table>\n",
       "</div>"
      ],
      "text/plain": [
       "                     Accuracy\n",
       "K Nearest Neighbors  0.772146\n",
       "Logistic Regression  0.766986\n",
       "SVM RBF Kernel       0.765704\n",
       "SVM Linear Kernel    0.765653"
      ]
     },
     "execution_count": 7,
     "metadata": {},
     "output_type": "execute_result"
    }
   ],
   "source": [
    "# Selecting the Best Performing Algorithm\n",
    "algorithms = [\"Logistic Regression\", \"K Nearest Neighbors\", \"SVM Linear Kernel\", \"SVM RBF Kernel\"]\n",
    "cv_mean = pd.DataFrame(result,index = algorithms)\n",
    "cv_mean.columns=[\"Accuracy\"]\n",
    "cv_mean.sort_values(by=\"Accuracy\",ascending=False)"
   ]
  },
  {
   "cell_type": "code",
   "execution_count": null,
   "metadata": {},
   "outputs": [],
   "source": []
  }
 ],
 "metadata": {
  "kernelspec": {
   "display_name": "Python 3",
   "language": "python",
   "name": "python3"
  },
  "language_info": {
   "codemirror_mode": {
    "name": "ipython",
    "version": 3
   },
   "file_extension": ".py",
   "mimetype": "text/x-python",
   "name": "python",
   "nbconvert_exporter": "python",
   "pygments_lexer": "ipython3",
   "version": "3.7.7"
  }
 },
 "nbformat": 4,
 "nbformat_minor": 4
}
