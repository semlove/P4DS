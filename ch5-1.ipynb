{
 "cells": [
  {
   "cell_type": "code",
   "execution_count": 1,
   "metadata": {},
   "outputs": [
    {
     "name": "stdout",
     "output_type": "stream",
     "text": [
      "    x   y   z\n",
      "0  10   6   3\n",
      "1  12   9  11\n",
      "2  12   8   4\n",
      "3   4   3   1\n",
      "4  12  10  11\n",
      "5   6   4   1\n",
      "6   8   5   7\n",
      "7   2   2   4\n",
      "8  18  11   8\n",
      "9   9   9   8\n"
     ]
    }
   ],
   "source": [
    "import pandas as pd\n",
    "import numpy as np\n",
    "import matplotlib.pyplot as plt\n",
    "import statsmodels.graphics.api as smg\n",
    "import researchpy as rp\n",
    "from scipy import stats\n",
    "df=pd.read_csv('C:/gskim/P4DS/data/ch51.csv')\n",
    "print(df)              "
   ]
  },
  {
   "cell_type": "code",
   "execution_count": 2,
   "metadata": {},
   "outputs": [
    {
     "data": {
      "image/png": "[encoded data removed]",
      "text/plain": [
       "<Figure size 432x288 with 2 Axes>"
      ]
     },
     "metadata": {
      "needs_background": "light"
     },
     "output_type": "display_data"
    }
   ],
   "source": [
    "corr_matrix=np.corrcoef(df.T)\n",
    "smg.plot_corr(corr_matrix)\n",
    "plt.show()"
   ]
  },
  {
   "cell_type": "code",
   "execution_count": 3,
   "metadata": {},
   "outputs": [
    {
     "name": "stdout",
     "output_type": "stream",
     "text": [
      "          x         y         z\n",
      "x  1.000000  0.921653  0.596146\n",
      "y  0.921653  1.000000  0.764317\n",
      "z  0.596146  0.764317  1.000000\n",
      "      r value p-value   N\n",
      "x & y  0.9217  0.0001  10\n",
      "x & z  0.5961  0.0689  10\n",
      "y & z  0.7643  0.0100  10\n"
     ]
    }
   ],
   "source": [
    "np.corrcoef(df)\n",
    "corr=df.corr(method='pearson')\n",
    "print(corr)\n",
    "print(rp.corr_pair(df[['x', 'y', 'z']]))"
   ]
  },
  {
   "cell_type": "code",
   "execution_count": null,
   "metadata": {},
   "outputs": [],
   "source": []
  }
 ],
 "metadata": {
  "kernelspec": {
   "display_name": "Python 3",
   "language": "python",
   "name": "python3"
  },
  "language_info": {
   "codemirror_mode": {
    "name": "ipython",
    "version": 3
   },
   "file_extension": ".py",
   "mimetype": "text/x-python",
   "name": "python",
   "nbconvert_exporter": "python",
   "pygments_lexer": "ipython3",
   "version": "3.7.7"
  }
 },
 "nbformat": 4,
 "nbformat_minor": 2
}
