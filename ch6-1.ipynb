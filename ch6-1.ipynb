{
 "cells": [
  {
   "cell_type": "code",
   "execution_count": 2,
   "metadata": {},
   "outputs": [
    {
     "name": "stdout",
     "output_type": "stream",
     "text": [
      "    x    y\n",
      "0  25  100\n",
      "1  52  256\n",
      "2  38  152\n",
      "3  32  140\n",
      "4  25  150\n"
     ]
    }
   ],
   "source": [
    "# 회귀분석에 필요한 라이브러리를 불러오기\n",
    "import pandas as pd\n",
    "import matplotlib.pyplot as plt\n",
    "import statsmodels.formula.api as sm\n",
    "# 데이터 불러오기\n",
    "df = pd.read_csv('C:/gskim/P4DS/data/ch61.csv')\n",
    "df.head()  # 상단의 5개의 데이터 확인하기"
   ]
  },
  {
   "cell_type": "code",
   "execution_count": 8,
   "metadata": {},
   "outputs": [
    {
     "name": "stdout",
     "output_type": "stream",
     "text": [
      "             x           y\n",
      "count  10.0000   10.000000\n",
      "mean   38.2000  170.900000\n",
      "std    10.6854   42.560937\n",
      "min    25.0000  100.000000\n",
      "25%    29.0000  150.500000\n",
      "50%    39.0000  163.500000\n",
      "75%    44.2500  194.250000\n",
      "max    55.0000  256.000000\n"
     ]
    }
   ],
   "source": [
    "# padas 에서 제공하는 설명 통계\n",
    "print(df.describe())\n"
   ]
  },
  {
   "cell_type": "code",
   "execution_count": 16,
   "metadata": {},
   "outputs": [
    {
     "data": {
      "image/png": "[encoded data removed]",
      "text/plain": [
       "<Figure size 432x288 with 1 Axes>"
      ]
     },
     "metadata": {
      "needs_background": "light"
     },
     "output_type": "display_data"
    }
   ],
   "source": [
    "# Plotting \n",
    "import matplotlib.pyplot as plt\n",
    "import seaborn as sns\n",
    "%matplotlib inline\n",
    "\n",
    "# jupyter 사용시 이용 \n",
    "sns.regplot(x=\"x\", y=\"y\", data=df)\n",
    "plt.show()"
   ]
  },
  {
   "cell_type": "code",
   "execution_count": 17,
   "metadata": {},
   "outputs": [
    {
     "name": "stdout",
     "output_type": "stream",
     "text": [
      "                            OLS Regression Results                            \n",
      "==============================================================================\n",
      "Dep. Variable:                      y   R-squared:                       0.734\n",
      "Model:                            OLS   Adj. R-squared:                  0.701\n",
      "Method:                 Least Squares   F-statistic:                     22.05\n",
      "Date:                Tue, 24 Mar 2020   Prob (F-statistic):            0.00155\n",
      "Time:                        17:47:19   Log-Likelihood:                -44.554\n",
      "No. Observations:                  10   AIC:                             93.11\n",
      "Df Residuals:                       8   BIC:                             93.71\n",
      "Df Model:                           1                                         \n",
      "Covariance Type:            nonrobust                                         \n",
      "==============================================================================\n",
      "                 coef    std err          t      P>|t|      [0.025      0.975]\n",
      "------------------------------------------------------------------------------\n",
      "Intercept     40.5605     28.715      1.413      0.195     -25.657     106.778\n",
      "x              3.4120      0.727      4.696      0.002       1.737       5.087\n",
      "==============================================================================\n",
      "Omnibus:                        1.082   Durbin-Watson:                   2.769\n",
      "Prob(Omnibus):                  0.582   Jarque-Bera (JB):                0.772\n",
      "Skew:                           0.378   Prob(JB):                        0.680\n",
      "Kurtosis:                       1.868   Cond. No.                         154.\n",
      "==============================================================================\n",
      "\n",
      "Warnings:\n",
      "[1] Standard Errors assume that the covariance matrix of the errors is correctly specified.\n"
     ]
    },
    {
     "name": "stderr",
     "output_type": "stream",
     "text": [
      "C:\\Users\\gskim\\Anaconda3\\lib\\site-packages\\scipy\\stats\\stats.py:1450: UserWarning: kurtosistest only valid for n>=20 ... continuing anyway, n=10\n",
      "  \"anyway, n=%i\" % int(n))\n"
     ]
    }
   ],
   "source": [
    "# 회귀분석 수행\n",
    "result = sm.ols(formula='y ~ x', data=df).fit()\n",
    "# 요약결과 출력\n",
    "print(result.summary())"
   ]
  },
  {
   "cell_type": "code",
   "execution_count": null,
   "metadata": {},
   "outputs": [],
   "source": []
  }
 ],
 "metadata": {
  "kernelspec": {
   "display_name": "Python 3",
   "language": "python",
   "name": "python3"
  },
  "language_info": {
   "codemirror_mode": {
    "name": "ipython",
    "version": 3
   },
   "file_extension": ".py",
   "mimetype": "text/x-python",
   "name": "python",
   "nbconvert_exporter": "python",
   "pygments_lexer": "ipython3",
   "version": "3.7.4"
  }
 },
 "nbformat": 4,
 "nbformat_minor": 2
}
