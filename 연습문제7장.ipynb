{
 "cells": [
  {
   "cell_type": "code",
   "execution_count": 1,
   "metadata": {},
   "outputs": [],
   "source": [
    "#연습문제 7-3\n",
    "import numpy as np\n",
    "import pandas as pd\n",
    "from scipy import stats\n",
    "import matplotlib.pyplot as plt\n",
    "import statsmodels.api as sm\n",
    "from statsmodels.formula.api import logit\n",
    "%matplotlib inline\n",
    "import pandas as pd\n",
    "df = pd.read_csv('C:/gskim/P4DS/data/ex73.csv')\n",
    "df.columns=[\"amit\",\"toeic\",\"gpa\",\"rank\"]"
   ]
  },
  {
   "cell_type": "code",
   "execution_count": 2,
   "metadata": {},
   "outputs": [
    {
     "name": "stdout",
     "output_type": "stream",
     "text": [
      "Optimization terminated successfully.\n",
      "         Current function value: 0.574302\n",
      "         Iterations 6\n"
     ]
    }
   ],
   "source": [
    "affair_mod =sm.Logit.from_formula(\"amit ~ toeic + gpa + rank\", df).fit()"
   ]
  },
  {
   "cell_type": "code",
   "execution_count": 3,
   "metadata": {},
   "outputs": [
    {
     "name": "stdout",
     "output_type": "stream",
     "text": [
      "                           Logit Regression Results                           \n",
      "==============================================================================\n",
      "Dep. Variable:                   amit   No. Observations:                  400\n",
      "Model:                          Logit   Df Residuals:                      396\n",
      "Method:                           MLE   Df Model:                            3\n",
      "Date:                Thu, 04 Jun 2020   Pseudo R-squ.:                 0.08107\n",
      "Time:                        21:21:41   Log-Likelihood:                -229.72\n",
      "converged:                       True   LL-Null:                       -249.99\n",
      "Covariance Type:            nonrobust   LLR p-value:                 8.207e-09\n",
      "==============================================================================\n",
      "                 coef    std err          z      P>|z|      [0.025      0.975]\n",
      "------------------------------------------------------------------------------\n",
      "Intercept     -3.4495      1.133     -3.045      0.002      -5.670      -1.229\n",
      "toeic          0.0023      0.001      2.101      0.036       0.000       0.004\n",
      "gpa            0.7770      0.327      2.373      0.018       0.135       1.419\n",
      "rank          -0.5600      0.127     -4.405      0.000      -0.809      -0.311\n",
      "==============================================================================\n",
      "Intercept    0.031760\n",
      "toeic        1.002297\n",
      "gpa          2.174967\n",
      "rank         0.571191\n",
      "dtype: float64\n",
      "[[253.  20.]\n",
      " [ 98.  29.]]\n"
     ]
    }
   ],
   "source": [
    "print(affair_mod.summary())\n",
    "print(np.exp(affair_mod.params))\n",
    "print(affair_mod.pred_table())"
   ]
  },
  {
   "cell_type": "code",
   "execution_count": 5,
   "metadata": {},
   "outputs": [
    {
     "name": "stdout",
     "output_type": "stream",
     "text": [
      "LogisticRegression(C=1.0, class_weight=None, dual=False, fit_intercept=True,\n",
      "                   intercept_scaling=1, l1_ratio=None, max_iter=100,\n",
      "                   multi_class='auto', n_jobs=None, penalty='l2',\n",
      "                   random_state=None, solver='lbfgs', tol=0.0001, verbose=0,\n",
      "                   warm_start=False) Result of Classification : \n",
      "              precision    recall  f1-score   support\n",
      "\n",
      "           0       0.72      0.93      0.81       273\n",
      "           1       0.61      0.22      0.32       127\n",
      "\n",
      "    accuracy                           0.71       400\n",
      "   macro avg       0.66      0.58      0.57       400\n",
      "weighted avg       0.68      0.71      0.66       400\n",
      "\n",
      "\n",
      "Accuracy:\n",
      "0.7075\n",
      "Confusion matrix:\n",
      "[[255  18]\n",
      " [ 99  28]]\n",
      "ROC_AUC:\n",
      "0.577269187505408\n"
     ]
    },
    {
     "name": "stderr",
     "output_type": "stream",
     "text": [
      "C:\\Users\\gskim\\Anaconda3\\lib\\site-packages\\sklearn\\utils\\validation.py:760: DataConversionWarning: A column-vector y was passed when a 1d array was expected. Please change the shape of y to (n_samples, ), for example using ravel().\n",
      "  y = column_or_1d(y, warn=True)\n"
     ]
    }
   ],
   "source": [
    "from sklearn import model_selection\n",
    "from sklearn import metrics\n",
    "\n",
    "# Model selection using Logistic Regression analysis\n",
    "from sklearn.linear_model import LogisticRegression\n",
    "clf = LogisticRegression()\n",
    "# Data Frame\n",
    "X=df[['toeic','gpa', 'rank']]\n",
    "Y=df[['amit']]\n",
    "\n",
    "# Model fitness\n",
    "clf.fit(X, Y)\n",
    "\n",
    "# Forecasting depend on model\n",
    "y_pred = clf.predict(X)\n",
    "\n",
    "# Model Identification \n",
    "print(\"{} Result of Classification : \\n{}\\n\".format(clf,metrics.classification_report(Y, y_pred)))\n",
    "print(\"Accuracy:\\n{}\".format(metrics.accuracy_score(Y, y_pred)))\n",
    "print(\"Confusion matrix:\\n{}\".format(metrics.confusion_matrix(Y, y_pred)))\n",
    "print(\"ROC_AUC:\\n{}\".format(metrics.roc_auc_score(Y, y_pred)))"
   ]
  },
  {
   "cell_type": "code",
   "execution_count": 6,
   "metadata": {},
   "outputs": [
    {
     "name": "stdout",
     "output_type": "stream",
     "text": [
      "0.9340659340659341 0.7795275590551181\n"
     ]
    },
    {
     "data": {
      "image/png": "[encoded data removed]",
      "text/plain": [
       "<Figure size 432x288 with 1 Axes>"
      ]
     },
     "metadata": {
      "needs_background": "light"
     },
     "output_type": "display_data"
    }
   ],
   "source": [
    "from sklearn.datasets import make_classification\n",
    "from sklearn.metrics import roc_curve\n",
    "recall = 255 / (255 + 18)\n",
    "fallout = 99 / (99 + 28)\n",
    "print(recall, fallout)\n",
    "fpr, tpr, thresholds = roc_curve(Y, clf.decision_function(X))\n",
    "fpr, tpr, thresholds\n",
    "fpr, tpr, thresholds = roc_curve(Y, clf.predict_proba(X)[:, 1])\n",
    "fpr, tpr, thresholds\n",
    "plt.plot(fpr, tpr, 'o-', label=\"Logistic Regression\")\n",
    "plt.plot([0, 1], [0, 1], 'k--', label=\"random guess\")\n",
    "plt.plot([fallout], [recall], 'ro', ms=10)\n",
    "plt.xlabel('Fall-Out')\n",
    "plt.ylabel('Recall')\n",
    "plt.title('Receiver operating characteristic example')\n",
    "plt.show()"
   ]
  },
  {
   "cell_type": "code",
   "execution_count": 9,
   "metadata": {},
   "outputs": [
    {
     "name": "stdout",
     "output_type": "stream",
     "text": [
      "<class 'pandas.core.frame.DataFrame'>\n",
      "RangeIndex: 768 entries, 0 to 767\n",
      "Data columns (total 9 columns):\n",
      " #   Column                    Non-Null Count  Dtype  \n",
      "---  ------                    --------------  -----  \n",
      " 0   Pregnancies               768 non-null    int64  \n",
      " 1   Glucose                   768 non-null    int64  \n",
      " 2   BloodPressure             768 non-null    int64  \n",
      " 3   SkinThickness             768 non-null    int64  \n",
      " 4   Insulin                   768 non-null    int64  \n",
      " 5   BMI                       768 non-null    float64\n",
      " 6   DiabetesPedigreeFunction  768 non-null    float64\n",
      " 7   Age                       768 non-null    int64  \n",
      " 8   Outcome                   768 non-null    int64  \n",
      "dtypes: float64(2), int64(7)\n",
      "memory usage: 54.1 KB\n",
      "Nulls\n",
      "=====\n",
      "Pregnancies                 0\n",
      "Glucose                     0\n",
      "BloodPressure               0\n",
      "SkinThickness               0\n",
      "Insulin                     0\n",
      "BMI                         0\n",
      "DiabetesPedigreeFunction    0\n",
      "Age                         0\n",
      "Outcome                     0\n",
      "dtype: int64\n",
      "0s\n",
      "==\n",
      "Pregnancies                 111\n",
      "Glucose                       5\n",
      "BloodPressure                35\n",
      "SkinThickness               227\n",
      "Insulin                     374\n",
      "BMI                          11\n",
      "DiabetesPedigreeFunction      0\n",
      "Age                           0\n",
      "Outcome                     500\n",
      "dtype: int64\n",
      "Pregnancies                 111\n",
      "Glucose                       0\n",
      "BloodPressure                 0\n",
      "SkinThickness                 0\n",
      "Insulin                       0\n",
      "BMI                           0\n",
      "DiabetesPedigreeFunction      0\n",
      "Age                           0\n",
      "Outcome                     500\n",
      "dtype: int64\n",
      "Optimization terminated successfully.\n",
      "         Current function value: 0.480262\n",
      "         Iterations 6\n",
      "                           Logit Regression Results                           \n",
      "==============================================================================\n",
      "Dep. Variable:                      y   No. Observations:                  768\n",
      "Model:                          Logit   Df Residuals:                      764\n",
      "Method:                           MLE   Df Model:                            3\n",
      "Date:                Mon, 08 Jun 2020   Pseudo R-squ.:                  0.2575\n",
      "Time:                        20:20:34   Log-Likelihood:                -368.84\n",
      "converged:                       True   LL-Null:                       -496.74\n",
      "Covariance Type:            nonrobust   LLR p-value:                 3.640e-55\n",
      "==============================================================================\n",
      "                 coef    std err          z      P>|z|      [0.025      0.975]\n",
      "------------------------------------------------------------------------------\n",
      "Intercept     -9.1215      0.708    -12.878      0.000     -10.510      -7.733\n",
      "X[0]           0.0356      0.003     10.243      0.000       0.029       0.042\n",
      "X[1]           0.0918      0.014      6.383      0.000       0.064       0.120\n",
      "X[2]           0.0292      0.008      3.795      0.000       0.014       0.044\n",
      "==============================================================================\n",
      "Intercept    0.000109\n",
      "X[0]         1.036223\n",
      "X[1]         1.096113\n",
      "X[2]         1.029639\n",
      "dtype: float64\n",
      "LogisticRegression(C=1.0, class_weight=None, dual=False, fit_intercept=True,\n",
      "                   intercept_scaling=1, l1_ratio=None, max_iter=100,\n",
      "                   multi_class='auto', n_jobs=None, penalty='l2',\n",
      "                   random_state=None, solver='lbfgs', tol=0.0001, verbose=0,\n",
      "                   warm_start=False) Result of Classification : \n",
      "              precision    recall  f1-score   support\n",
      "\n",
      "           0       0.79      0.88      0.83       500\n",
      "           1       0.71      0.57      0.63       268\n",
      "\n",
      "    accuracy                           0.77       768\n",
      "   macro avg       0.75      0.72      0.73       768\n",
      "weighted avg       0.76      0.77      0.76       768\n",
      "\n",
      "\n",
      "Accuracy:\n",
      "0.76953125\n",
      "Confusion matrix:\n",
      "[[439  61]\n",
      " [116 152]]\n",
      "ROC_AUC:\n",
      "0.7225820895522388\n"
     ]
    }
   ],
   "source": [
    "#연습문제 7-4-1\n",
    "import numpy as np\n",
    "import pandas as pd\n",
    "\n",
    "df = pd.read_csv('C:/gskim/P4DS/data/diabetes.csv')\n",
    "df.info()\n",
    "#---check for null values---\n",
    "print(\"Nulls\")\n",
    "print(\"=====\")\n",
    "print(df.isnull().sum())\n",
    "#---check for 0s---\n",
    "print(\"0s\")\n",
    "print(\"==\")\n",
    "print(df.eq(0).sum())\n",
    "\n",
    "df[['Glucose','BloodPressure','SkinThickness',\n",
    "    'Insulin','BMI','DiabetesPedigreeFunction','Age']] = \\\n",
    "    df[['Glucose','BloodPressure','SkinThickness',\n",
    "        'Insulin','BMI','DiabetesPedigreeFunction','Age']].replace(0,np.NaN)\n",
    "df.fillna(df.mean(), inplace = True)   # replace NaN with the mean\n",
    "\n",
    "print(df.eq(0).sum())\n",
    "\n",
    "\n",
    "from scipy import stats\n",
    "import matplotlib.pyplot as plt\n",
    "import statsmodels.api as sm\n",
    "from statsmodels.formula.api import logit\n",
    "from sklearn import linear_model\n",
    "from sklearn.model_selection import cross_val_score\n",
    "from sklearn import model_selection\n",
    "from sklearn import metrics\n",
    "\n",
    "#---features---\n",
    "X = df[['Glucose','BMI','Age']]\n",
    "\n",
    "#---label---\n",
    "Y = df.iloc[:,8]\n",
    "\n",
    "affair_mod =sm.Logit.from_formula(\"y ~ X\", df).fit()\n",
    "print(affair_mod.summary())\n",
    "print(np.exp(affair_mod.params))\n",
    "\n",
    "# Model selection using Logistic Regression analysis\n",
    "from sklearn.linear_model import LogisticRegression\n",
    "clf = LogisticRegression()\n",
    "\n",
    "# Model fitness\n",
    "clf.fit(X, Y)\n",
    "\n",
    "# Forecasting depend on model\n",
    "y_pred = clf.predict(X)\n",
    "\n",
    "# Model Identification \n",
    "print(\"{} Result of Classification : \\n{}\\n\".format(clf,metrics.classification_report(Y, y_pred)))\n",
    "print(\"Accuracy:\\n{}\".format(metrics.accuracy_score(Y, y_pred)))\n",
    "print(\"Confusion matrix:\\n{}\".format(metrics.confusion_matrix(Y, y_pred)))\n",
    "print(\"ROC_AUC:\\n{}\".format(metrics.roc_auc_score(Y, y_pred)))"
   ]
  },
  {
   "cell_type": "code",
   "execution_count": 10,
   "metadata": {},
   "outputs": [
    {
     "name": "stdout",
     "output_type": "stream",
     "text": [
      "0.878 0.43283582089552236\n"
     ]
    },
    {
     "data": {
      "image/png": "[encoded data removed]",
      "text/plain": [
       "<Figure size 432x288 with 1 Axes>"
      ]
     },
     "metadata": {
      "needs_background": "light"
     },
     "output_type": "display_data"
    }
   ],
   "source": [
    "#연습문제 7-4-2\n",
    "from sklearn.datasets import make_classification\n",
    "from sklearn.metrics import roc_curve\n",
    "recall = 439 / (439 + 61)\n",
    "fallout = 116 / (116 + 152)\n",
    "print(recall, fallout)\n",
    "fpr, tpr, thresholds = roc_curve(Y, clf.decision_function(X))\n",
    "fpr, tpr, thresholds\n",
    "fpr, tpr, thresholds = roc_curve(Y, clf.predict_proba(X)[:, 1])\n",
    "fpr, tpr, thresholds\n",
    "plt.plot(fpr, tpr, 'o-', label=\"Logistic Regression\")\n",
    "plt.plot([0, 1], [0, 1], 'k--', label=\"random guess\")\n",
    "plt.plot([fallout], [recall], 'ro', ms=10)\n",
    "plt.xlabel('Fall-Out')\n",
    "plt.ylabel('Recall')\n",
    "plt.title('Receiver operating characteristic example')\n",
    "plt.show()"
   ]
  },
  {
   "cell_type": "code",
   "execution_count": null,
   "metadata": {},
   "outputs": [],
   "source": []
  }
 ],
 "metadata": {
  "kernelspec": {
   "display_name": "Python 3",
   "language": "python",
   "name": "python3"
  },
  "language_info": {
   "codemirror_mode": {
    "name": "ipython",
    "version": 3
   },
   "file_extension": ".py",
   "mimetype": "text/x-python",
   "name": "python",
   "nbconvert_exporter": "python",
   "pygments_lexer": "ipython3",
   "version": "3.7.7"
  }
 },
 "nbformat": 4,
 "nbformat_minor": 4
}
