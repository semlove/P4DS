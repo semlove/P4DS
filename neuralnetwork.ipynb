{
 "cells": [
  {
   "cell_type": "code",
   "execution_count": 35,
   "metadata": {},
   "outputs": [],
   "source": [
    "from sklearn.model_selection import train_test_split\n",
    "from sklearn.model_selection import cross_val_score\n",
    "from sklearn.preprocessing import MinMaxScaler\n",
    "from sklearn import datasets\n",
    "from sklearn.neural_network import MLPClassifier\n",
    "import numpy as np\n",
    "# 데이터 셋 로딩\n",
    "digits = datasets.load_digits()\n",
    "np.unique(y, return_counts=True)\n",
    "X, y = digits.data, digits.target\n",
    "X_tr, X_t, y_tr, y_t=train_test_split(X, y, \n",
    "                                      test_size=0.3,\n",
    "                                    random_state=0)"
   ]
  },
  {
   "cell_type": "code",
   "execution_count": 36,
   "metadata": {},
   "outputs": [],
   "source": [
    "scaling = MinMaxScaler(feature_range=(-1, 1)).fit(X_tr)\n",
    "X_tr = scaling.transform(X_tr)\n",
    "X_t = scaling.transform(X_t)"
   ]
  },
  {
   "cell_type": "code",
   "execution_count": 37,
   "metadata": {},
   "outputs": [
    {
     "name": "stdout",
     "output_type": "stream",
     "text": [
      "CV accuracy score: 0.979\n",
      "Test accuracy score: 0.981\n"
     ]
    }
   ],
   "source": [
    "nn = MLPClassifier(hidden_layer_sizes=(512, ),\n",
    "                   activation='relu',\n",
    "                   solver='adam',\n",
    "                   shuffle=True,\n",
    "                   tol=1e-4,\n",
    "                   random_state=1)\n",
    "cv = cross_val_score(nn, X_tr, y_tr, cv=10)\n",
    "test_score = nn.fit(X_tr, y_tr).score(X_t, y_t)\n",
    "print('CV accuracy score: %0.3f'% np.mean(cv))\n",
    "print('Test accuracy score: %0.3f' % (test_score))"
   ]
  },
  {
   "cell_type": "code",
   "execution_count": null,
   "metadata": {},
   "outputs": [],
   "source": []
  }
 ],
 "metadata": {
  "kernelspec": {
   "display_name": "Python 3",
   "language": "python",
   "name": "python3"
  },
  "language_info": {
   "codemirror_mode": {
    "name": "ipython",
    "version": 3
   },
   "file_extension": ".py",
   "mimetype": "text/x-python",
   "name": "python",
   "nbconvert_exporter": "python",
   "pygments_lexer": "ipython3",
   "version": "3.7.4"
  }
 },
 "nbformat": 4,
 "nbformat_minor": 2
}
