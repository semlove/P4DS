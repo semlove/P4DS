{
 "cells": [
  {
   "cell_type": "code",
   "execution_count": 1,
   "metadata": {},
   "outputs": [
    {
     "name": "stdout",
     "output_type": "stream",
     "text": [
      "Data Science is art!\n"
     ]
    }
   ],
   "source": [
    "# 1-3\n",
    "print(\"Data Science is art!\")"
   ]
  },
  {
   "cell_type": "code",
   "execution_count": 2,
   "metadata": {},
   "outputs": [
    {
     "name": "stdout",
     "output_type": "stream",
     "text": [
      "큰 값\n"
     ]
    }
   ],
   "source": [
    "# 1-4\n",
    "d=12\n",
    "if d > 10:\n",
    "    print(\"큰 값\")"
   ]
  },
  {
   "cell_type": "code",
   "execution_count": 3,
   "metadata": {},
   "outputs": [
    {
     "name": "stdout",
     "output_type": "stream",
     "text": [
      "작은 값\n"
     ]
    }
   ],
   "source": [
    "# 1-5\n",
    "d=9\n",
    "if d > 10:\n",
    "    print(\"큰 값\")\n",
    "else:\n",
    "    print(\"작은 값\")"
   ]
  },
  {
   "cell_type": "code",
   "execution_count": 4,
   "metadata": {},
   "outputs": [
    {
     "name": "stdout",
     "output_type": "stream",
     "text": [
      "중간\n"
     ]
    }
   ],
   "source": [
    "# 1-6\n",
    "g = 2\n",
    "if g == 1:\n",
    "    print(\"상위\")\n",
    "elif g == 2:\n",
    "    print(\"중간\")\n",
    "elif g == 3:\n",
    "    print(\"하위\")\n",
    "else:\n",
    "    print(\"죄송합니다. 어느 그룹에도 포함되지 않습니다.\")"
   ]
  },
  {
   "cell_type": "code",
   "execution_count": null,
   "metadata": {},
   "outputs": [],
   "source": []
  }
 ],
 "metadata": {
  "kernelspec": {
   "display_name": "Python 3",
   "language": "python",
   "name": "python3"
  },
  "language_info": {
   "codemirror_mode": {
    "name": "ipython",
    "version": 3
   },
   "file_extension": ".py",
   "mimetype": "text/x-python",
   "name": "python",
   "nbconvert_exporter": "python",
   "pygments_lexer": "ipython3",
   "version": "3.7.7"
  }
 },
 "nbformat": 4,
 "nbformat_minor": 2
}
