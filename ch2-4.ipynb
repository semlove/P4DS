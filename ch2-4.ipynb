{
 "cells": [
  {
   "cell_type": "code",
   "execution_count": 1,
   "metadata": {},
   "outputs": [
    {
     "name": "stdout",
     "output_type": "stream",
     "text": [
      "0    11.0\n",
      "1    12.0\n",
      "2    13.0\n",
      "3    13.0\n",
      "4    15.0\n",
      "5    16.0\n",
      "6    13.0\n",
      "dtype: float64\n",
      "\n",
      "0    11.0\n",
      "1    12.0\n",
      "2    13.0\n",
      "4    15.0\n",
      "5    16.0\n",
      "dtype: float64\n"
     ]
    }
   ],
   "source": [
    "import pandas as pd\n",
    "import numpy as np\n",
    "\n",
    "s= pd.Series([11, 12, 13, np.NaN, 15, 16, None])\n",
    "\n",
    "print(s.fillna(int(s.mean())))\n",
    "\n",
    "print()\n",
    "print(s.dropna())"
   ]
  }
 ],
 "metadata": {
  "kernelspec": {
   "display_name": "Python 3",
   "language": "python",
   "name": "python3"
  },
  "language_info": {
   "codemirror_mode": {
    "name": "ipython",
    "version": 3
   },
   "file_extension": ".py",
   "mimetype": "text/x-python",
   "name": "python",
   "nbconvert_exporter": "python",
   "pygments_lexer": "ipython3",
   "version": "3.7.7"
  }
 },
 "nbformat": 4,
 "nbformat_minor": 2
}
