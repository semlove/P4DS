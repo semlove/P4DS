{
 "cells": [
  {
   "cell_type": "code",
   "execution_count": 1,
   "metadata": {},
   "outputs": [],
   "source": [
    "# 연습문제 8-4-1\n",
    "# Import required libraries\n",
    "import pandas as pd\n",
    "from sklearn.decomposition import FactorAnalysis\n",
    "import matplotlib.pyplot as plt"
   ]
  },
  {
   "cell_type": "code",
   "execution_count": 2,
   "metadata": {},
   "outputs": [
    {
     "name": "stdout",
     "output_type": "stream",
     "text": [
      "   x1  x2  x3  x4  x5  x6\n",
      "0   6   4   7   6   5   4\n",
      "1   5   7   5   6   6   6\n",
      "2   5   3   4   5   6   4\n",
      "3   3   3   2   3   4   3\n",
      "4   4   3   3   3   2   2\n"
     ]
    }
   ],
   "source": [
    "# 연습문제 8-4-1\n",
    "df = pd.read_csv('C:/gskim/P4DS/data/ex84.csv')\n",
    "X = pd.DataFrame(df, columns=['x1','x2','x3','x4','x5','x6']) # name열 불러오기\n",
    "print(X.head()) # 결과 확인하기 "
   ]
  },
  {
   "cell_type": "code",
   "execution_count": 3,
   "metadata": {},
   "outputs": [
    {
     "data": {
      "text/html": [
       "<div>\n",
       "<style scoped>\n",
       "    .dataframe tbody tr th:only-of-type {\n",
       "        vertical-align: middle;\n",
       "    }\n",
       "\n",
       "    .dataframe tbody tr th {\n",
       "        vertical-align: top;\n",
       "    }\n",
       "\n",
       "    .dataframe thead th {\n",
       "        text-align: right;\n",
       "    }\n",
       "</style>\n",
       "<table border=\"1\" class=\"dataframe\">\n",
       "  <thead>\n",
       "    <tr style=\"text-align: right;\">\n",
       "      <th></th>\n",
       "      <th>0</th>\n",
       "      <th>1</th>\n",
       "      <th>2</th>\n",
       "      <th>3</th>\n",
       "      <th>4</th>\n",
       "      <th>5</th>\n",
       "    </tr>\n",
       "  </thead>\n",
       "  <tbody>\n",
       "    <tr>\n",
       "      <th>0</th>\n",
       "      <td>-1.104222</td>\n",
       "      <td>-0.793015</td>\n",
       "      <td>-0.587076</td>\n",
       "      <td>-0.805352</td>\n",
       "      <td>-0.724169</td>\n",
       "      <td>-1.350185</td>\n",
       "    </tr>\n",
       "    <tr>\n",
       "      <th>1</th>\n",
       "      <td>1.356798</td>\n",
       "      <td>-0.545341</td>\n",
       "      <td>0.915803</td>\n",
       "      <td>-0.247520</td>\n",
       "      <td>0.903791</td>\n",
       "      <td>-0.290881</td>\n",
       "    </tr>\n",
       "  </tbody>\n",
       "</table>\n",
       "</div>"
      ],
      "text/plain": [
       "          0         1         2         3         4         5\n",
       "0 -1.104222 -0.793015 -0.587076 -0.805352 -0.724169 -1.350185\n",
       "1  1.356798 -0.545341  0.915803 -0.247520  0.903791 -0.290881"
      ]
     },
     "execution_count": 3,
     "metadata": {},
     "output_type": "execute_result"
    }
   ],
   "source": [
    "# 연습문제 8-4-1\n",
    "factor = FactorAnalysis(n_components=2).fit(X)\n",
    "pd.DataFrame(factor.components_)"
   ]
  },
  {
   "cell_type": "code",
   "execution_count": 4,
   "metadata": {},
   "outputs": [
    {
     "data": {
      "text/plain": [
       "Index(['x1', 'x2', 'x3', 'x4', 'x5', 'x6'], dtype='object')"
      ]
     },
     "execution_count": 4,
     "metadata": {},
     "output_type": "execute_result"
    }
   ],
   "source": [
    "# 연습문제 8-4-1, 방법2\n",
    "# Import required libraries\n",
    "import pandas as pd\n",
    "import seaborn as sns\n",
    "import xlrd\n",
    "from factor_analyzer import FactorAnalyzer\n",
    "import matplotlib.pyplot as plt\n",
    "df = pd.read_csv('C:/gskim/P4DS/data/ex84.csv')\n",
    "df = df[[\"x1\", \"x2\",\"x3\",\"x4\", \"x5\",\"x6\"]]\n",
    "df.columns"
   ]
  },
  {
   "cell_type": "code",
   "execution_count": 66,
   "metadata": {},
   "outputs": [
    {
     "name": "stdout",
     "output_type": "stream",
     "text": [
      "<class 'pandas.core.frame.DataFrame'>\n",
      "Int64Index: 25 entries, 0 to 24\n",
      "Data columns (total 6 columns):\n",
      " #   Column  Non-Null Count  Dtype\n",
      "---  ------  --------------  -----\n",
      " 0   x1      25 non-null     int64\n",
      " 1   x2      25 non-null     int64\n",
      " 2   x3      25 non-null     int64\n",
      " 3   x4      25 non-null     int64\n",
      " 4   x5      25 non-null     int64\n",
      " 5   x6      25 non-null     int64\n",
      "dtypes: int64(6)\n",
      "memory usage: 1.4 KB\n"
     ]
    },
    {
     "data": {
      "text/html": [
       "<div>\n",
       "<style scoped>\n",
       "    .dataframe tbody tr th:only-of-type {\n",
       "        vertical-align: middle;\n",
       "    }\n",
       "\n",
       "    .dataframe tbody tr th {\n",
       "        vertical-align: top;\n",
       "    }\n",
       "\n",
       "    .dataframe thead th {\n",
       "        text-align: right;\n",
       "    }\n",
       "</style>\n",
       "<table border=\"1\" class=\"dataframe\">\n",
       "  <thead>\n",
       "    <tr style=\"text-align: right;\">\n",
       "      <th></th>\n",
       "      <th>x1</th>\n",
       "      <th>x2</th>\n",
       "      <th>x3</th>\n",
       "      <th>x4</th>\n",
       "      <th>x5</th>\n",
       "      <th>x6</th>\n",
       "    </tr>\n",
       "  </thead>\n",
       "  <tbody>\n",
       "    <tr>\n",
       "      <th>0</th>\n",
       "      <td>6</td>\n",
       "      <td>4</td>\n",
       "      <td>7</td>\n",
       "      <td>6</td>\n",
       "      <td>5</td>\n",
       "      <td>4</td>\n",
       "    </tr>\n",
       "    <tr>\n",
       "      <th>1</th>\n",
       "      <td>5</td>\n",
       "      <td>7</td>\n",
       "      <td>5</td>\n",
       "      <td>6</td>\n",
       "      <td>6</td>\n",
       "      <td>6</td>\n",
       "    </tr>\n",
       "    <tr>\n",
       "      <th>2</th>\n",
       "      <td>5</td>\n",
       "      <td>3</td>\n",
       "      <td>4</td>\n",
       "      <td>5</td>\n",
       "      <td>6</td>\n",
       "      <td>4</td>\n",
       "    </tr>\n",
       "    <tr>\n",
       "      <th>3</th>\n",
       "      <td>3</td>\n",
       "      <td>3</td>\n",
       "      <td>2</td>\n",
       "      <td>3</td>\n",
       "      <td>4</td>\n",
       "      <td>3</td>\n",
       "    </tr>\n",
       "    <tr>\n",
       "      <th>4</th>\n",
       "      <td>4</td>\n",
       "      <td>3</td>\n",
       "      <td>3</td>\n",
       "      <td>3</td>\n",
       "      <td>2</td>\n",
       "      <td>2</td>\n",
       "    </tr>\n",
       "  </tbody>\n",
       "</table>\n",
       "</div>"
      ],
      "text/plain": [
       "   x1  x2  x3  x4  x5  x6\n",
       "0   6   4   7   6   5   4\n",
       "1   5   7   5   6   6   6\n",
       "2   5   3   4   5   6   4\n",
       "3   3   3   2   3   4   3\n",
       "4   4   3   3   3   2   2"
      ]
     },
     "execution_count": 66,
     "metadata": {},
     "output_type": "execute_result"
    }
   ],
   "source": [
    "# 연습문제 8-4-1, 방법2\n",
    "# Dropping missing values rows\n",
    "df.dropna(inplace=True)\n",
    "df.info()\n",
    "df.head()"
   ]
  },
  {
   "cell_type": "code",
   "execution_count": 5,
   "metadata": {},
   "outputs": [
    {
     "data": {
      "text/plain": [
       "(69.58424852594528, 2.169880205973837e-09)"
      ]
     },
     "execution_count": 5,
     "metadata": {},
     "output_type": "execute_result"
    }
   ],
   "source": [
    "# 연습문제 8-4-1, 방법2\n",
    "# Bartlett’s Test and Kaiser-Meyer-Olkin Test\n",
    "from factor_analyzer.factor_analyzer import calculate_bartlett_sphericity\n",
    "chi_square_value,p_value=calculate_bartlett_sphericity(df)\n",
    "chi_square_value, p_value"
   ]
  },
  {
   "cell_type": "code",
   "execution_count": 6,
   "metadata": {},
   "outputs": [
    {
     "data": {
      "text/plain": [
       "0.48248265790619144"
      ]
     },
     "execution_count": 6,
     "metadata": {},
     "output_type": "execute_result"
    }
   ],
   "source": [
    "# 연습문제 8-4-1, 방법2\n",
    "# Kaiser-Meyer-Olkin (KMO) Test\n",
    "from factor_analyzer.factor_analyzer import calculate_kmo\n",
    "kmo_all,kmo_model=calculate_kmo(df)\n",
    "kmo_model"
   ]
  },
  {
   "cell_type": "code",
   "execution_count": 7,
   "metadata": {},
   "outputs": [
    {
     "data": {
      "text/plain": [
       "array([2.85453005, 1.54345088, 0.74810884, 0.40898198, 0.3411825 ,\n",
       "       0.10374575])"
      ]
     },
     "execution_count": 7,
     "metadata": {},
     "output_type": "execute_result"
    }
   ],
   "source": [
    "# 연습문제 8-4-1, 방법2\n",
    "# Check Eigenvalues\n",
    "fa = FactorAnalyzer(rotation=None, n_factors=len(df.columns))\n",
    "fa.fit(df)\n",
    "ev, v = fa.get_eigenvalues()\n",
    "ev"
   ]
  },
  {
   "cell_type": "code",
   "execution_count": 8,
   "metadata": {},
   "outputs": [
    {
     "data": {
      "image/png": "[encoded data removed]",
      "text/plain": [
       "<Figure size 432x288 with 1 Axes>"
      ]
     },
     "metadata": {
      "needs_background": "light"
     },
     "output_type": "display_data"
    }
   ],
   "source": [
    "# 연습문제 8-4-1, 방법2\n",
    "# Create scree plot using matplotlib, \n",
    "plt.scatter(range(1,df.shape[1]+1),ev)\n",
    "plt.plot(range(1,df.shape[1]+1),ev)\n",
    "plt.title('Scree Plot')\n",
    "plt.xlabel('Factors')\n",
    "plt.ylabel('Eigenvalue')\n",
    "plt.axhline(y=1, color='r', linestyle='--')\n",
    "plt.grid()\n",
    "plt.show()"
   ]
  },
  {
   "cell_type": "code",
   "execution_count": 9,
   "metadata": {},
   "outputs": [
    {
     "name": "stdout",
     "output_type": "stream",
     "text": [
      "[[ 0.92857314  0.14401222]\n",
      " [-0.00458102  0.59034844]\n",
      " [ 0.64264481  0.12644127]\n",
      " [ 0.19228187  0.67240817]\n",
      " [ 0.74176889  0.12159229]\n",
      " [ 0.25381254  0.9804782 ]]\n"
     ]
    }
   ],
   "source": [
    "# 연습문제 8-4-1, 방법2\n",
    "# Create factor analysis object and perform factor analysis\n",
    "fa = FactorAnalyzer(rotation='varimax', n_factors=2)\n",
    "fa.fit(df)\n",
    "fa_lo = fa.loadings_\n",
    "print(fa_lo)"
   ]
  },
  {
   "cell_type": "code",
   "execution_count": 10,
   "metadata": {},
   "outputs": [
    {
     "data": {
      "text/html": [
       "<div>\n",
       "<style scoped>\n",
       "    .dataframe tbody tr th:only-of-type {\n",
       "        vertical-align: middle;\n",
       "    }\n",
       "\n",
       "    .dataframe tbody tr th {\n",
       "        vertical-align: top;\n",
       "    }\n",
       "\n",
       "    .dataframe thead th {\n",
       "        text-align: right;\n",
       "    }\n",
       "</style>\n",
       "<table border=\"1\" class=\"dataframe\">\n",
       "  <thead>\n",
       "    <tr style=\"text-align: right;\">\n",
       "      <th></th>\n",
       "      <th>x1</th>\n",
       "      <th>x2</th>\n",
       "      <th>x3</th>\n",
       "      <th>x4</th>\n",
       "      <th>x5</th>\n",
       "      <th>x6</th>\n",
       "      <th>의료품질</th>\n",
       "      <th>병원 이미지 품질</th>\n",
       "    </tr>\n",
       "  </thead>\n",
       "  <tbody>\n",
       "    <tr>\n",
       "      <th>0</th>\n",
       "      <td>6</td>\n",
       "      <td>4</td>\n",
       "      <td>7</td>\n",
       "      <td>6</td>\n",
       "      <td>5</td>\n",
       "      <td>4</td>\n",
       "      <td>15.929414</td>\n",
       "      <td>12.674879</td>\n",
       "    </tr>\n",
       "    <tr>\n",
       "      <th>1</th>\n",
       "      <td>5</td>\n",
       "      <td>7</td>\n",
       "      <td>5</td>\n",
       "      <td>6</td>\n",
       "      <td>6</td>\n",
       "      <td>6</td>\n",
       "      <td>14.951202</td>\n",
       "      <td>16.131579</td>\n",
       "    </tr>\n",
       "    <tr>\n",
       "      <th>2</th>\n",
       "      <td>5</td>\n",
       "      <td>3</td>\n",
       "      <td>4</td>\n",
       "      <td>5</td>\n",
       "      <td>6</td>\n",
       "      <td>4</td>\n",
       "      <td>13.626975</td>\n",
       "      <td>11.010379</td>\n",
       "    </tr>\n",
       "    <tr>\n",
       "      <th>3</th>\n",
       "      <td>3</td>\n",
       "      <td>3</td>\n",
       "      <td>2</td>\n",
       "      <td>3</td>\n",
       "      <td>4</td>\n",
       "      <td>3</td>\n",
       "      <td>8.362625</td>\n",
       "      <td>7.900993</td>\n",
       "    </tr>\n",
       "    <tr>\n",
       "      <th>4</th>\n",
       "      <td>4</td>\n",
       "      <td>3</td>\n",
       "      <td>3</td>\n",
       "      <td>3</td>\n",
       "      <td>2</td>\n",
       "      <td>2</td>\n",
       "      <td>8.196492</td>\n",
       "      <td>6.947784</td>\n",
       "    </tr>\n",
       "  </tbody>\n",
       "</table>\n",
       "</div>"
      ],
      "text/plain": [
       "   x1  x2  x3  x4  x5  x6       의료품질  병원 이미지 품질\n",
       "0   6   4   7   6   5   4  15.929414  12.674879\n",
       "1   5   7   5   6   6   6  14.951202  16.131579\n",
       "2   5   3   4   5   6   4  13.626975  11.010379\n",
       "3   3   3   2   3   4   3   8.362625   7.900993\n",
       "4   4   3   3   3   2   2   8.196492   6.947784"
      ]
     },
     "execution_count": 10,
     "metadata": {},
     "output_type": "execute_result"
    }
   ],
   "source": [
    "# 연습문제 8-4-1, 방법2\n",
    "# Create two factors\n",
    "fa.get_communalities()\n",
    "import numpy as np\n",
    "fa_df = pd.DataFrame(fa_lo)\n",
    "X_fa = np.dot(df, fa_df)\n",
    "X_fa\n",
    "X_fa_df = pd.DataFrame(X_fa)\n",
    "X_fa_df.columns=['의료품질','병원 이미지 품질']\n",
    "X_fa_df.head()\n",
    "ds_fa = pd.concat([df, X_fa_df], axis=1)\n",
    "ds_fa.head()"
   ]
  },
  {
   "cell_type": "code",
   "execution_count": 11,
   "metadata": {},
   "outputs": [],
   "source": [
    "# 연습문제 8-4-2\n",
    "from sklearn.decomposition import PCA\n",
    "import pandas as pd\n",
    "from sklearn.preprocessing import StandardScaler\n",
    "X_ = StandardScaler().fit_transform(X)"
   ]
  },
  {
   "cell_type": "code",
   "execution_count": 12,
   "metadata": {},
   "outputs": [
    {
     "data": {
      "text/html": [
       "<div>\n",
       "<style scoped>\n",
       "    .dataframe tbody tr th:only-of-type {\n",
       "        vertical-align: middle;\n",
       "    }\n",
       "\n",
       "    .dataframe tbody tr th {\n",
       "        vertical-align: top;\n",
       "    }\n",
       "\n",
       "    .dataframe thead th {\n",
       "        text-align: right;\n",
       "    }\n",
       "</style>\n",
       "<table border=\"1\" class=\"dataframe\">\n",
       "  <thead>\n",
       "    <tr style=\"text-align: right;\">\n",
       "      <th></th>\n",
       "      <th>0</th>\n",
       "      <th>1</th>\n",
       "      <th>2</th>\n",
       "      <th>3</th>\n",
       "      <th>4</th>\n",
       "      <th>5</th>\n",
       "    </tr>\n",
       "  </thead>\n",
       "  <tbody>\n",
       "    <tr>\n",
       "      <th>0</th>\n",
       "      <td>-0.453928</td>\n",
       "      <td>-0.285602</td>\n",
       "      <td>-0.395002</td>\n",
       "      <td>-0.401910</td>\n",
       "      <td>-0.415244</td>\n",
       "      <td>-0.471587</td>\n",
       "    </tr>\n",
       "    <tr>\n",
       "      <th>1</th>\n",
       "      <td>-0.397008</td>\n",
       "      <td>0.515171</td>\n",
       "      <td>-0.346495</td>\n",
       "      <td>0.372994</td>\n",
       "      <td>-0.401346</td>\n",
       "      <td>0.395881</td>\n",
       "    </tr>\n",
       "  </tbody>\n",
       "</table>\n",
       "</div>"
      ],
      "text/plain": [
       "          0         1         2         3         4         5\n",
       "0 -0.453928 -0.285602 -0.395002 -0.401910 -0.415244 -0.471587\n",
       "1 -0.397008  0.515171 -0.346495  0.372994 -0.401346  0.395881"
      ]
     },
     "execution_count": 12,
     "metadata": {},
     "output_type": "execute_result"
    }
   ],
   "source": [
    "# 연습문제 8-4-2\n",
    "from sklearn.decomposition import PCA\n",
    "pca = PCA(n_components=2)\n",
    "pc = pca.fit_transform(X_)\n",
    "pd.DataFrame(pca.components_)"
   ]
  },
  {
   "cell_type": "code",
   "execution_count": 13,
   "metadata": {
    "scrolled": true
   },
   "outputs": [
    {
     "data": {
      "text/plain": [
       "<matplotlib.collections.PathCollection at 0x1d5c2c54908>"
      ]
     },
     "execution_count": 13,
     "metadata": {},
     "output_type": "execute_result"
    },
    {
     "data": {
      "image/png": "[encoded data removed]",
      "text/plain": [
       "<Figure size 432x288 with 1 Axes>"
      ]
     },
     "metadata": {
      "needs_background": "light"
     },
     "output_type": "display_data"
    }
   ],
   "source": [
    "# 연습문제 8-4-2\n",
    "import matplotlib.pyplot as plt\n",
    "plt.scatter(pc[:,0],pc[:,1])"
   ]
  },
  {
   "cell_type": "code",
   "execution_count": 14,
   "metadata": {},
   "outputs": [
    {
     "name": "stdout",
     "output_type": "stream",
     "text": [
      "False\n",
      "0\n",
      "x1    0\n",
      "x2    0\n",
      "x3    0\n",
      "x4    0\n",
      "x5    0\n",
      "x6    0\n",
      "y     0\n",
      "dtype: int64\n",
      "[[ 0.92857314  0.14401222]\n",
      " [-0.00458102  0.59034844]\n",
      " [ 0.64264481  0.12644127]\n",
      " [ 0.19228187  0.67240817]\n",
      " [ 0.74176889  0.12159229]\n",
      " [ 0.25381254  0.9804782 ]]\n",
      "                            OLS Regression Results                            \n",
      "==============================================================================\n",
      "Dep. Variable:                  y_use   R-squared:                       0.298\n",
      "Model:                            OLS   Adj. R-squared:                  0.234\n",
      "Method:                 Least Squares   F-statistic:                     4.658\n",
      "Date:                Fri, 28 Aug 2020   Prob (F-statistic):             0.0206\n",
      "Time:                        14:53:56   Log-Likelihood:                -28.270\n",
      "No. Observations:                  25   AIC:                             62.54\n",
      "Df Residuals:                      22   BIC:                             66.20\n",
      "Df Model:                           2                                         \n",
      "Covariance Type:            nonrobust                                         \n",
      "==============================================================================\n",
      "                 coef    std err          t      P>|t|      [0.025      0.975]\n",
      "------------------------------------------------------------------------------\n",
      "Intercept      5.1700      0.654      7.909      0.000       3.814       6.526\n",
      "의료품질           0.1388      0.055      2.545      0.018       0.026       0.252\n",
      "병원이미지품질       -0.0128      0.071     -0.181      0.858      -0.160       0.134\n",
      "==============================================================================\n",
      "Omnibus:                        2.998   Durbin-Watson:                   2.494\n",
      "Prob(Omnibus):                  0.223   Jarque-Bera (JB):                1.788\n",
      "Skew:                          -0.641   Prob(JB):                        0.409\n",
      "Kurtosis:                       3.266   Cond. No.                         66.5\n",
      "==============================================================================\n",
      "\n",
      "Warnings:\n",
      "[1] Standard Errors assume that the covariance matrix of the errors is correctly specified.\n"
     ]
    },
    {
     "data": {
      "image/png": "[encoded data removed]",
      "text/plain": [
       "<Figure size 792x648 with 2 Axes>"
      ]
     },
     "metadata": {},
     "output_type": "display_data"
    }
   ],
   "source": [
    "# 연습문제 8-4-3\n",
    "import pandas as pd\n",
    "import numpy as np\n",
    "import seaborn as sns\n",
    "import xlrd\n",
    "from factor_analyzer import FactorAnalyzer\n",
    "import matplotlib.pyplot as plt\n",
    "df = pd.read_csv('C:/gskim/P4DS/data/ex843.csv')\n",
    "df.columns\n",
    "df\n",
    "df.describe()\n",
    "#Some basic statistics of the numerical variables in the dataset.\n",
    "df.shape\n",
    "# Missing values1\n",
    "print(df.isnull().values.any())\n",
    "# Missing values2\n",
    "print(df.isnull().sum().sum())\n",
    "# Replace missing value\n",
    "print(df.isnull().sum())\n",
    "# Compute correlations\n",
    "corr = X.corr()\n",
    "\n",
    "# Exclude duplicate correlations by masking uper right values\n",
    "mask = np.zeros_like(corr, dtype=np.bool)\n",
    "mask[np.triu_indices_from(mask)] = True\n",
    "\n",
    "# Set background color / chart style\n",
    "sns.set_style(style = 'white')\n",
    "\n",
    "# Set up  matplotlib figure\n",
    "f, ax = plt.subplots(figsize=(11, 9))\n",
    "\n",
    "# Add diverging colormap\n",
    "cmap = sns.diverging_palette(10, 250, as_cmap=True)\n",
    "\n",
    "# Draw correlation plot\n",
    "sns.heatmap(corr, mask=mask, cmap=cmap, \n",
    "        square=True,\n",
    "        linewidths=.5, cbar_kws={\"shrink\": .5}, ax=ax)\n",
    "X = df[[\"x1\", \"x2\",\"x3\",\"x4\", \"x5\",\"x6\"]]\n",
    "y_use = df[\"y\"]\n",
    "fa = FactorAnalyzer(rotation='varimax', n_factors=2)\n",
    "fa.fit(X)\n",
    "fa_lo = fa.loadings_\n",
    "print(fa_lo)\n",
    "fa.get_communalities()\n",
    "from factor_analyzer.factor_analyzer import calculate_bartlett_sphericity\n",
    "chi_square_value,p_value=calculate_bartlett_sphericity(X)\n",
    "chi_square_value, p_value\n",
    "from factor_analyzer.factor_analyzer import calculate_kmo\n",
    "kmo_all,kmo_model=calculate_kmo(X)\n",
    "kmo_model\n",
    "import numpy as np\n",
    "fa_df = pd.DataFrame(fa_lo)\n",
    "X_fa = np.dot(X, fa_df)\n",
    "X_fa\n",
    "X_fa_df = pd.DataFrame(X_fa)\n",
    "X_fa_df.columns=['의료품질','병원이미지품질']\n",
    "X_fa_df.head()\n",
    "ds_fa = pd.concat([df, X_fa_df], axis=1)\n",
    "ds_fa.head()\n",
    "import statsmodels.formula.api as sm\n",
    "result = sm.ols(formula='y_use ~ 의료품질 + 병원이미지품질', data=ds_fa).fit()\n",
    "print(result.summary())"
   ]
  },
  {
   "cell_type": "code",
   "execution_count": null,
   "metadata": {},
   "outputs": [],
   "source": []
  }
 ],
 "metadata": {
  "kernelspec": {
   "display_name": "Python 3",
   "language": "python",
   "name": "python3"
  },
  "language_info": {
   "codemirror_mode": {
    "name": "ipython",
    "version": 3
   },
   "file_extension": ".py",
   "mimetype": "text/x-python",
   "name": "python",
   "nbconvert_exporter": "python",
   "pygments_lexer": "ipython3",
   "version": "3.7.7"
  }
 },
 "nbformat": 4,
 "nbformat_minor": 4
}
