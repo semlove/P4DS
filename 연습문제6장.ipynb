{
 "cells": [
  {
   "cell_type": "code",
   "execution_count": 1,
   "metadata": {},
   "outputs": [
    {
     "data": {
      "image/png": "[encoded data removed]",
      "text/plain": [
       "<Figure size 432x288 with 1 Axes>"
      ]
     },
     "metadata": {
      "needs_background": "light"
     },
     "output_type": "display_data"
    }
   ],
   "source": [
    "# 연습문제 6-2-1\n",
    "%matplotlib inline\n",
    "import matplotlib.pyplot as plt\n",
    "\n",
    "# represents the heights of a group of people in metres\n",
    "heights = [[1.6], [1.65], [1.7], [1.73], [1.8], [1.85]]\n",
    "\n",
    "# represents the weights of a group of people in kgs\n",
    "weights = [[60], [65], [72.3], [75], [80], [85]]\n",
    "\n",
    "plt.title('Weights plotted against heights')\n",
    "plt.xlabel('Heights in metres')\n",
    "plt.ylabel('Weights in kilograms')\n",
    "\n",
    "plt.plot(heights, weights, 'k.')\n",
    "\n",
    "# axis range for x and y\n",
    "plt.axis([1.5, 1.85, 50, 90])\n",
    "plt.grid(True)"
   ]
  },
  {
   "cell_type": "code",
   "execution_count": 8,
   "metadata": {},
   "outputs": [
    {
     "name": "stdout",
     "output_type": "stream",
     "text": [
      "Intercept: \n",
      " [-97.95794971]\n",
      "Coefficients: \n",
      " [[99.23017408]]\n",
      "weights: \n",
      " [[78.67176015]]\n"
     ]
    }
   ],
   "source": [
    "# 연습문제 6-2-2\n",
    "from sklearn.linear_model import LinearRegression\n",
    "from sklearn import linear_model\n",
    "import statsmodels.api as sm\n",
    "\n",
    "# Create and fit the model\n",
    "model = LinearRegression()\n",
    "model.fit(heights, weights)\n",
    "\n",
    "\n",
    "print('Intercept: \\n', model.intercept_)\n",
    "print('Coefficients: \\n', model.coef_)\n",
    "\n",
    "# prediction with sklearn\n",
    "New_x1= 1.78\n",
    "\n",
    "print ('weights: \\n', model.predict([[New_x1]]))"
   ]
  },
  {
   "cell_type": "code",
   "execution_count": 9,
   "metadata": {},
   "outputs": [
    {
     "name": "stdout",
     "output_type": "stream",
     "text": [
      "Intercept: \n",
      " 13.655125697216421\n",
      "Coefficients: \n",
      " [-0.12006001 -0.04602289]\n",
      "Jobs satisfaction: \n",
      " [3.68214201]\n",
      "                            OLS Regression Results                            \n",
      "==============================================================================\n",
      "Dep. Variable:                      y   R-squared:                       0.853\n",
      "Model:                            OLS   Adj. R-squared:                  0.811\n",
      "Method:                 Least Squares   F-statistic:                     20.34\n",
      "Date:                Sun, 14 Jun 2020   Prob (F-statistic):            0.00121\n",
      "Time:                        09:04:03   Log-Likelihood:                -14.893\n",
      "No. Observations:                  10   AIC:                             35.79\n",
      "Df Residuals:                       7   BIC:                             36.69\n",
      "Df Model:                           2                                         \n",
      "Covariance Type:            nonrobust                                         \n",
      "==============================================================================\n",
      "                 coef    std err          t      P>|t|      [0.025      0.975]\n",
      "------------------------------------------------------------------------------\n",
      "const         13.6551      2.621      5.211      0.001       7.459      19.852\n",
      "x1            -0.1201      0.020     -6.156      0.000      -0.166      -0.074\n",
      "x2            -0.0460      0.357     -0.129      0.901      -0.890       0.798\n",
      "==============================================================================\n",
      "Omnibus:                        2.501   Durbin-Watson:                   0.883\n",
      "Prob(Omnibus):                  0.286   Jarque-Bera (JB):                1.422\n",
      "Skew:                          -0.893   Prob(JB):                        0.491\n",
      "Kurtosis:                       2.527   Cond. No.                         356.\n",
      "==============================================================================\n",
      "\n",
      "Warnings:\n",
      "[1] Standard Errors assume that the covariance matrix of the errors is correctly specified.\n"
     ]
    },
    {
     "name": "stderr",
     "output_type": "stream",
     "text": [
      "C:\\Users\\gskim\\Anaconda3\\lib\\site-packages\\scipy\\stats\\stats.py:1535: UserWarning: kurtosistest only valid for n>=20 ... continuing anyway, n=10\n",
      "  \"anyway, n=%i\" % int(n))\n"
     ]
    }
   ],
   "source": [
    "#연습문제 6-3\n",
    "import pandas as pd\n",
    "from sklearn import linear_model\n",
    "import statsmodels.api as sm\n",
    "\n",
    "ex62 = pd.read_csv('C:/gskim/P4DS/data/ex62.csv')\n",
    "\n",
    "df = pd.DataFrame(ex62, columns=['x1','x2','y'])\n",
    "\n",
    "X = df[['x1','x2']]\n",
    "Y = df['y']\n",
    " \n",
    "# with sklearn\n",
    "regr = linear_model.LinearRegression()\n",
    "regr.fit(X, Y)\n",
    "\n",
    "print('Intercept: \\n', regr.intercept_)\n",
    "print('Coefficients: \\n', regr.coef_)\n",
    "\n",
    "# prediction with sklearn\n",
    "New_x1= 80\n",
    "New_x2 = 8\n",
    "print ('Jobs satisfaction: \\n', regr.predict([[New_x1, New_x2]]))\n",
    "\n",
    "# with statsmodels\n",
    "X = sm.add_constant(X) # adding a constant\n",
    " \n",
    "model = sm.OLS(Y, X).fit()\n",
    "predictions = model.predict(X) \n",
    " \n",
    "print_model = model.summary()\n",
    "print(print_model)"
   ]
  },
  {
   "cell_type": "code",
   "execution_count": 10,
   "metadata": {},
   "outputs": [
    {
     "name": "stdout",
     "output_type": "stream",
     "text": [
      "    Year  Month  Interest_Rate  Unemployment_Rate  Stock_Index_Price\n",
      "0   2019      1              2                  5                719\n",
      "1   2019      2              2                  5                704\n",
      "2   2019      3              2                  5                822\n",
      "3   2019      4              2                  5                876\n",
      "4   2019      5              2                  5                866\n",
      "5   2019      6              2                  6                884\n",
      "6   2019      7              2                  6                949\n",
      "7   2019      8              2                  6                971\n",
      "8   2019      9              2                  6                958\n",
      "9   2019     10              2                  6                943\n",
      "10  2019     11              2                  6                965\n",
      "11  2019     12              2                  6               1047\n",
      "12  2020      1              2                  6               1075\n",
      "13  2020      2              2                  6               1130\n",
      "14  2020      3              2                  6               1167\n",
      "15  2020      4              2                  6               1159\n",
      "16  2020      5              2                  6               1195\n",
      "17  2020      6              3                  6               1234\n",
      "18  2020      7              3                  6               1254\n",
      "19  2020      8              3                  6               1256\n",
      "20  2020      9              3                  6               1293\n",
      "21  2020     10              3                  6               1357\n",
      "22  2020     11              3                  6               1394\n",
      "23  2020     12              3                  6               1464\n",
      "Intercept: \n",
      " -969.7785714285717\n",
      "Coefficients: \n",
      " [284.79761905 239.51666667]\n",
      "Predicted Stock Index Price: \n",
      " [1374.14571429]\n",
      "                            OLS Regression Results                            \n",
      "==============================================================================\n",
      "Dep. Variable:      Stock_Index_Price   R-squared:                       0.811\n",
      "Model:                            OLS   Adj. R-squared:                  0.793\n",
      "Method:                 Least Squares   F-statistic:                     45.01\n",
      "Date:                Sun, 14 Jun 2020   Prob (F-statistic):           2.55e-08\n",
      "Time:                        09:04:18   Log-Likelihood:                -141.98\n",
      "No. Observations:                  24   AIC:                             290.0\n",
      "Df Residuals:                      21   BIC:                             293.5\n",
      "Df Model:                           2                                         \n",
      "Covariance Type:            nonrobust                                         \n",
      "=====================================================================================\n",
      "                        coef    std err          t      P>|t|      [0.025      0.975]\n",
      "-------------------------------------------------------------------------------------\n",
      "const              -969.7786    280.000     -3.463      0.002   -1552.071    -387.486\n",
      "Interest_Rate       284.7976     45.618      6.243      0.000     189.929     379.666\n",
      "Unemployment_Rate   239.5167     51.057      4.691      0.000     133.339     345.695\n",
      "==============================================================================\n",
      "Omnibus:                        5.210   Durbin-Watson:                   0.816\n",
      "Prob(Omnibus):                  0.074   Jarque-Bera (JB):                1.839\n",
      "Skew:                           0.239   Prob(JB):                        0.399\n",
      "Kurtosis:                       1.731   Cond. No.                         91.8\n",
      "==============================================================================\n",
      "\n",
      "Warnings:\n",
      "[1] Standard Errors assume that the covariance matrix of the errors is correctly specified.\n"
     ]
    }
   ],
   "source": [
    "import pandas as pd\n",
    "from sklearn import linear_model\n",
    "import statsmodels.api as sm\n",
    "\n",
    "Stock_Market = pd.read_csv('C:/gskim/P4DS/data/ex63.csv')\n",
    "df = pd.DataFrame(Stock_Market,columns=['Year','Month','Interest_Rate','Unemployment_Rate','Stock_Index_Price'])\n",
    "print(df)\n",
    "df = pd.DataFrame(Stock_Market,columns=['Year','Month','Interest_Rate','Unemployment_Rate','Stock_Index_Price'])\n",
    "\n",
    "X = df[['Interest_Rate','Unemployment_Rate']]\n",
    "Y = df['Stock_Index_Price']\n",
    " \n",
    "# with sklearn\n",
    "regr = linear_model.LinearRegression()\n",
    "regr.fit(X, Y)\n",
    "\n",
    "print('Intercept: \\n', regr.intercept_)\n",
    "print('Coefficients: \\n', regr.coef_)\n",
    "\n",
    "# prediction with sklearn\n",
    "New_Interest_Rate = 3.1\n",
    "New_Unemployment_Rate = 6.1\n",
    "print ('Predicted Stock Index Price: \\n', regr.predict([[New_Interest_Rate ,New_Unemployment_Rate]]))\n",
    "\n",
    "# with statsmodels\n",
    "X = sm.add_constant(X) # adding a constant\n",
    " \n",
    "model = sm.OLS(Y, X).fit()\n",
    "predictions = model.predict(X) \n",
    " \n",
    "print_model = model.summary()\n",
    "print(print_model)"
   ]
  }
 ],
 "metadata": {
  "kernelspec": {
   "display_name": "Python 3",
   "language": "python",
   "name": "python3"
  },
  "language_info": {
   "codemirror_mode": {
    "name": "ipython",
    "version": 3
   },
   "file_extension": ".py",
   "mimetype": "text/x-python",
   "name": "python",
   "nbconvert_exporter": "python",
   "pygments_lexer": "ipython3",
   "version": "3.7.7"
  }
 },
 "nbformat": 4,
 "nbformat_minor": 4
}
