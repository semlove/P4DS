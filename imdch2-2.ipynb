{
 "cells": [
  {
   "cell_type": "code",
   "execution_count": 8,
   "metadata": {},
   "outputs": [
    {
     "name": "stdout",
     "output_type": "stream",
     "text": [
      "      name  weight  birthyear  children    hobby\n",
      "0    alice      68       1985       NaN   Biking\n",
      "1      bob      83       1984       3.0  Dancing\n",
      "2  charles     112       1992       0.0      NaN\n"
     ]
    }
   ],
   "source": [
    "import pandas as pd\n",
    "df = pd.ExcelFile(\"C:/gskim/P4DS/data/datainput.xls\")\n",
    "df = df.parse('Sheet1', index_col=None,\n",
    "                       na_values=['NA'])\n",
    "print(df)"
   ]
  },
  {
   "cell_type": "code",
   "execution_count": null,
   "metadata": {},
   "outputs": [],
   "source": []
  }
 ],
 "metadata": {
  "kernelspec": {
   "display_name": "Python 3",
   "language": "python",
   "name": "python3"
  },
  "language_info": {
   "codemirror_mode": {
    "name": "ipython",
    "version": 3
   },
   "file_extension": ".py",
   "mimetype": "text/x-python",
   "name": "python",
   "nbconvert_exporter": "python",
   "pygments_lexer": "ipython3",
   "version": "3.7.4"
  }
 },
 "nbformat": 4,
 "nbformat_minor": 2
}
