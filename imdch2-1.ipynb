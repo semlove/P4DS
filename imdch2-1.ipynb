{
 "cells": [
  {
   "cell_type": "code",
   "execution_count": 1,
   "metadata": {},
   "outputs": [
    {
     "name": "stdout",
     "output_type": "stream",
     "text": [
      "      name  weight  birthyear  children    hobby\n",
      "0    alice      68       1985       NaN   Biking\n",
      "1      bob      83       1984       3.0  Dancing\n",
      "2  charles     112       1992       0.0      NaN\n"
     ]
    }
   ],
   "source": [
    "import pandas as pd\n",
    "df = pd.read_csv(\"C:/gskim/P4DS/data/datainput.csv\")\n",
    "df.head() # 상단의 5개 데이터 확인하기\n",
    "print(df.head()) # 결과 확인하기  "
   ]
  },
  {
   "cell_type": "code",
   "execution_count": 2,
   "metadata": {},
   "outputs": [
    {
     "name": "stdout",
     "output_type": "stream",
     "text": [
      "      name\n",
      "0    alice\n",
      "1      bob\n",
      "2  charles\n"
     ]
    }
   ],
   "source": [
    "import pandas as pd\n",
    "df = pd.read_csv(\"C:/gskim/P4DS/data/datainput.csv\")\n",
    "df = pd.DataFrame(df, columns=['name']) # name열 불러오기\n",
    "print(df.head()) # 결과 확인하기  "
   ]
  },
  {
   "cell_type": "code",
   "execution_count": 3,
   "metadata": {},
   "outputs": [
    {
     "name": "stdout",
     "output_type": "stream",
     "text": [
      "    name  weight  birthyear  children   hobby\n",
      "0  alice      68       1985       NaN  Biking\n"
     ]
    }
   ],
   "source": [
    "import pandas as pd\n",
    "df = pd.read_csv(\"C:/gskim/P4DS/data/datainput.csv\")\n",
    "respondent0 = df.iloc[[0]] # 첫번째 행 불러오기\n",
    "print(respondent0) # 결과 확인하기  "
   ]
  },
  {
   "cell_type": "code",
   "execution_count": 27,
   "metadata": {},
   "outputs": [
    {
     "name": "stdout",
     "output_type": "stream",
     "text": [
      "    name  birthyear\n",
      "0  alice       1985\n",
      "1    bob       1984\n"
     ]
    }
   ],
   "source": [
    "import pandas as pd\n",
    "df = pd.read_csv(\"C:/gskim/P4DS/data/datainput.csv\")\n",
    "df = df.iloc[[0,1],[0,2]]\n",
    "print(df) # 결과 확인하기  "
   ]
  },
  {
   "cell_type": "code",
   "execution_count": 28,
   "metadata": {},
   "outputs": [
    {
     "name": "stdout",
     "output_type": "stream",
     "text": [
      "    name  weight\n",
      "0  alice      68\n",
      "1    bob      83\n"
     ]
    }
   ],
   "source": [
    "import pandas as pd\n",
    "df = pd.read_csv(\"C:/gskim/P4DS/data/datainput.csv\")\n",
    "df = pd.DataFrame(df)\n",
    "df = df.loc[[0,1], [\"name\",\"weight\"]]\n",
    "print(df.head()) # 결과 확인하기  "
   ]
  },
  {
   "cell_type": "code",
   "execution_count": 34,
   "metadata": {},
   "outputs": [
    {
     "name": "stdout",
     "output_type": "stream",
     "text": [
      "[ True False  True]\n",
      "\n",
      "      name  weight  birthyear  children   hobby\n",
      "0    alice      68       1985       NaN  Biking\n",
      "2  charles     112       1992       0.0     NaN\n"
     ]
    }
   ],
   "source": [
    "import pandas as pd\n",
    "df = pd.read_csv(\"C:/gskim/P4DS/data/datainput.csv\")\n",
    "df = pd.DataFrame(df)\n",
    "print(df.index % 2==0)\n",
    "print()\n",
    "print(df[df.index % 2==0])"
   ]
  },
  {
   "cell_type": "code",
   "execution_count": 39,
   "metadata": {},
   "outputs": [
    {
     "name": "stdout",
     "output_type": "stream",
     "text": [
      "      name  weight  birthyear  children    hobby\n",
      "1      bob      83       1984       3.0  Dancing\n",
      "2  charles     112       1992       0.0      NaN\n"
     ]
    }
   ],
   "source": [
    "import pandas as pd\n",
    "df = pd.read_csv(\"C:/gskim/P4DS/data/datainput.csv\")\n",
    "df = pd.DataFrame(df)\n",
    "df = df.loc[df[\"weight\"] >=80]\n",
    "print(df)"
   ]
  },
  {
   "cell_type": "code",
   "execution_count": null,
   "metadata": {},
   "outputs": [],
   "source": []
  }
 ],
 "metadata": {
  "kernelspec": {
   "display_name": "Python 3",
   "language": "python",
   "name": "python3"
  },
  "language_info": {
   "codemirror_mode": {
    "name": "ipython",
    "version": 3
   },
   "file_extension": ".py",
   "mimetype": "text/x-python",
   "name": "python",
   "nbconvert_exporter": "python",
   "pygments_lexer": "ipython3",
   "version": "3.7.7"
  }
 },
 "nbformat": 4,
 "nbformat_minor": 2
}
