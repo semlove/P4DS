{
 "cells": [
  {
   "cell_type": "code",
   "execution_count": 1,
   "metadata": {},
   "outputs": [
    {
     "data": {
      "text/html": [
       "<div>\n",
       "<style scoped>\n",
       "    .dataframe tbody tr th:only-of-type {\n",
       "        vertical-align: middle;\n",
       "    }\n",
       "\n",
       "    .dataframe tbody tr th {\n",
       "        vertical-align: top;\n",
       "    }\n",
       "\n",
       "    .dataframe thead th {\n",
       "        text-align: right;\n",
       "    }\n",
       "</style>\n",
       "<table border=\"1\" class=\"dataframe\">\n",
       "  <thead>\n",
       "    <tr style=\"text-align: right;\">\n",
       "      <th></th>\n",
       "      <th>y</th>\n",
       "      <th>x1</th>\n",
       "      <th>x2</th>\n",
       "      <th>x3</th>\n",
       "    </tr>\n",
       "  </thead>\n",
       "  <tbody>\n",
       "    <tr>\n",
       "      <th>0</th>\n",
       "      <td>0</td>\n",
       "      <td>3</td>\n",
       "      <td>6</td>\n",
       "      <td>5</td>\n",
       "    </tr>\n",
       "    <tr>\n",
       "      <th>1</th>\n",
       "      <td>0</td>\n",
       "      <td>4</td>\n",
       "      <td>10</td>\n",
       "      <td>4</td>\n",
       "    </tr>\n",
       "    <tr>\n",
       "      <th>2</th>\n",
       "      <td>1</td>\n",
       "      <td>3</td>\n",
       "      <td>5</td>\n",
       "      <td>3</td>\n",
       "    </tr>\n",
       "    <tr>\n",
       "      <th>3</th>\n",
       "      <td>1</td>\n",
       "      <td>3</td>\n",
       "      <td>1</td>\n",
       "      <td>5</td>\n",
       "    </tr>\n",
       "    <tr>\n",
       "      <th>4</th>\n",
       "      <td>1</td>\n",
       "      <td>3</td>\n",
       "      <td>1</td>\n",
       "      <td>5</td>\n",
       "    </tr>\n",
       "  </tbody>\n",
       "</table>\n",
       "</div>"
      ],
      "text/plain": [
       "   y  x1  x2  x3\n",
       "0  0   3   6   5\n",
       "1  0   4  10   4\n",
       "2  1   3   5   3\n",
       "3  1   3   1   5\n",
       "4  1   3   1   5"
      ]
     },
     "execution_count": 1,
     "metadata": {},
     "output_type": "execute_result"
    }
   ],
   "source": [
    "import numpy as np\n",
    "import pandas as pd\n",
    "from scipy import stats\n",
    "import matplotlib.pyplot as plt\n",
    "import statsmodels.api as sm\n",
    "from statsmodels.formula.api import logit\n",
    "%matplotlib inline\n",
    "# 데이터 불러오기\n",
    "dta = pd.read_csv('C:/gskim/P4DS/data/ch71.csv')\n",
    "dta.columns=[\"y\", \"x1\",\"x2\",\"x3\"]\n",
    "dta.head()  # 상단의 5개의 데이터 확인하기"
   ]
  },
  {
   "cell_type": "code",
   "execution_count": 2,
   "metadata": {},
   "outputs": [
    {
     "data": {
      "image/png": "[encoded data removed]",
      "text/plain": [
       "<Figure size 432x288 with 4 Axes>"
      ]
     },
     "metadata": {
      "needs_background": "light"
     },
     "output_type": "display_data"
    }
   ],
   "source": [
    "dta.hist()\n",
    "plt.show()"
   ]
  },
  {
   "cell_type": "code",
   "execution_count": 3,
   "metadata": {},
   "outputs": [
    {
     "name": "stdout",
     "output_type": "stream",
     "text": [
      "Optimization terminated successfully.\n",
      "         Current function value: 0.205563\n",
      "         Iterations 9\n"
     ]
    }
   ],
   "source": [
    "affair_mod = sm.Logit.from_formula(\"y ~ x1 + x2 + x3\", dta).fit()"
   ]
  },
  {
   "cell_type": "code",
   "execution_count": 4,
   "metadata": {},
   "outputs": [
    {
     "name": "stdout",
     "output_type": "stream",
     "text": [
      "                           Logit Regression Results                           \n",
      "==============================================================================\n",
      "Dep. Variable:                      y   No. Observations:                   30\n",
      "Model:                          Logit   Df Residuals:                       26\n",
      "Method:                           MLE   Df Model:                            3\n",
      "Date:                Sun, 14 Jun 2020   Pseudo R-squ.:                  0.7025\n",
      "Time:                        09:55:11   Log-Likelihood:                -6.1669\n",
      "converged:                       True   LL-Null:                       -20.728\n",
      "Covariance Type:            nonrobust   LLR p-value:                 2.111e-06\n",
      "==============================================================================\n",
      "                 coef    std err          z      P>|z|      [0.025      0.975]\n",
      "------------------------------------------------------------------------------\n",
      "Intercept     15.5833      6.810      2.288      0.022       2.235      28.931\n",
      "x1            -0.9059      0.846     -1.071      0.284      -2.563       0.751\n",
      "x2            -1.1087      0.488     -2.270      0.023      -2.066      -0.151\n",
      "x3            -1.0253      0.814     -1.260      0.208      -2.620       0.570\n",
      "==============================================================================\n",
      "Intercept    5.857952e+06\n",
      "x1           4.041598e-01\n",
      "x2           3.299989e-01\n",
      "x3           3.586942e-01\n",
      "dtype: float64\n",
      "[[13.  1.]\n",
      " [ 2. 14.]]\n"
     ]
    }
   ],
   "source": [
    "print(affair_mod.summary())\n",
    "print(np.exp(affair_mod.params))\n",
    "print(affair_mod.pred_table())"
   ]
  },
  {
   "cell_type": "code",
   "execution_count": 5,
   "metadata": {},
   "outputs": [
    {
     "name": "stdout",
     "output_type": "stream",
     "text": [
      "        Logit Marginal Effects       \n",
      "=====================================\n",
      "Dep. Variable:                      y\n",
      "Method:                          dydx\n",
      "At:                           overall\n",
      "==============================================================================\n",
      "                dy/dx    std err          z      P>|z|      [0.025      0.975]\n",
      "------------------------------------------------------------------------------\n",
      "x1            -0.0567      0.047     -1.209      0.227      -0.149       0.035\n",
      "x2            -0.0693      0.012     -5.799      0.000      -0.093      -0.046\n",
      "x3            -0.0641      0.045     -1.412      0.158      -0.153       0.025\n",
      "==============================================================================\n"
     ]
    }
   ],
   "source": [
    "mfx = affair_mod.get_margeff()\n",
    "print(mfx.summary())"
   ]
  },
  {
   "cell_type": "code",
   "execution_count": 8,
   "metadata": {},
   "outputs": [
    {
     "name": "stdout",
     "output_type": "stream",
     "text": [
      "LogisticRegression(C=1.0, class_weight=None, dual=False, fit_intercept=True,\n",
      "                   intercept_scaling=1, l1_ratio=None, max_iter=100,\n",
      "                   multi_class='auto', n_jobs=None, penalty='l2',\n",
      "                   random_state=None, solver='lbfgs', tol=0.0001, verbose=0,\n",
      "                   warm_start=False) Result of Classification : \n",
      "              precision    recall  f1-score   support\n",
      "\n",
      "           0       0.87      0.93      0.90        14\n",
      "           1       0.93      0.88      0.90        16\n",
      "\n",
      "    accuracy                           0.90        30\n",
      "   macro avg       0.90      0.90      0.90        30\n",
      "weighted avg       0.90      0.90      0.90        30\n",
      "\n",
      "\n",
      "Accuracy:\n",
      "0.9\n",
      "Confusion matrix:\n",
      "[[13  1]\n",
      " [ 2 14]]\n",
      "ROC_AUC:\n",
      "0.9017857142857143\n"
     ]
    },
    {
     "name": "stderr",
     "output_type": "stream",
     "text": [
      "C:\\Users\\gskim\\Anaconda3\\lib\\site-packages\\sklearn\\utils\\validation.py:760: DataConversionWarning: A column-vector y was passed when a 1d array was expected. Please change the shape of y to (n_samples, ), for example using ravel().\n",
      "  y = column_or_1d(y, warn=True)\n"
     ]
    }
   ],
   "source": [
    "from sklearn import model_selection\n",
    "from sklearn import metrics\n",
    "\n",
    "# Model selection using Logistic Regression analysis\n",
    "from sklearn.linear_model import LogisticRegression\n",
    "clf = LogisticRegression()\n",
    "# Data Frame\n",
    "X=dta[['x1','x2', 'x3']]\n",
    "Y=dta[['y']]\n",
    "\n",
    "# Model fitness\n",
    "clf.fit(X, Y)\n",
    "\n",
    "# Forecasting depend on model\n",
    "y_pred = clf.predict(X)\n",
    "\n",
    "# Model Identification \n",
    "print(\"{} Result of Classification : \\n{}\\n\".format(clf,metrics.classification_report(Y, y_pred)))\n",
    "print(\"Accuracy:\\n{}\".format(metrics.accuracy_score(Y, y_pred)))\n",
    "print(\"Confusion matrix:\\n{}\".format(metrics.confusion_matrix(Y, y_pred)))\n",
    "print(\"ROC_AUC:\\n{}\".format(metrics.roc_auc_score(Y, y_pred)))"
   ]
  },
  {
   "cell_type": "code",
   "execution_count": 9,
   "metadata": {},
   "outputs": [
    {
     "name": "stdout",
     "output_type": "stream",
     "text": [
      "0.9285714285714286 0.125\n"
     ]
    },
    {
     "data": {
      "image/png": "[encoded data removed]",
      "text/plain": [
       "<Figure size 432x288 with 1 Axes>"
      ]
     },
     "metadata": {
      "needs_background": "light"
     },
     "output_type": "display_data"
    }
   ],
   "source": [
    "from sklearn.datasets import make_classification\n",
    "from sklearn.metrics import roc_curve\n",
    "recall = 13 / (13 + 1)\n",
    "fallout = 2 / (2 + 14)\n",
    "print(recall, fallout)\n",
    "fpr, tpr, thresholds = roc_curve(Y, clf.decision_function(X))\n",
    "fpr, tpr, thresholds\n",
    "fpr, tpr, thresholds = roc_curve(Y, clf.predict_proba(X)[:, 1])\n",
    "fpr, tpr, thresholds\n",
    "plt.plot(fpr, tpr, 'o-', label=\"Logistic Regression\")\n",
    "plt.plot([0, 1], [0, 1], 'k--', label=\"random guess\")\n",
    "plt.plot([fallout], [recall], 'ro', ms=10)\n",
    "plt.xlabel('Fall-Out')\n",
    "plt.ylabel('Recall')\n",
    "plt.title('Receiver operating characteristic example')\n",
    "plt.show()"
   ]
  },
  {
   "cell_type": "code",
   "execution_count": 27,
   "metadata": {},
   "outputs": [
    {
     "data": {
      "text/plain": [
       "0.7478266809165098"
      ]
     },
     "execution_count": 27,
     "metadata": {},
     "output_type": "execute_result"
    }
   ],
   "source": [
    "respondent0=dta.iloc[[0]]\n",
    "affair_mod.predict(respondent0)\n",
    "affair_mod.model.cdf(affair_mod.fittedvalues[0])"
   ]
  },
  {
   "cell_type": "code",
   "execution_count": 18,
   "metadata": {},
   "outputs": [
    {
     "data": {
      "text/plain": [
       "0.0006515049478307336"
      ]
     },
     "execution_count": 18,
     "metadata": {},
     "output_type": "execute_result"
    }
   ],
   "source": [
    "dta.columns=[\"y\", \"x1\",\"x2\",\"x3\"]\n",
    "respondent30=dta.iloc[[-2]]\n",
    "affair_mod.predict(respondent30)\n",
    "affair_mod.model.cdf(affair_mod.fittedvalues[30])"
   ]
  },
  {
   "cell_type": "code",
   "execution_count": 19,
   "metadata": {},
   "outputs": [
    {
     "data": {
      "text/plain": [
       "0.9944584770551094"
      ]
     },
     "execution_count": 19,
     "metadata": {},
     "output_type": "execute_result"
    }
   ],
   "source": [
    "respondent31=dta.iloc[[-1]]\n",
    "affair_mod.predict(respondent31)\n",
    "affair_mod.model.cdf(affair_mod.fittedvalues[31])"
   ]
  },
  {
   "cell_type": "code",
   "execution_count": null,
   "metadata": {},
   "outputs": [],
   "source": []
  }
 ],
 "metadata": {
  "kernelspec": {
   "display_name": "Python 3",
   "language": "python",
   "name": "python3"
  },
  "language_info": {
   "codemirror_mode": {
    "name": "ipython",
    "version": 3
   },
   "file_extension": ".py",
   "mimetype": "text/x-python",
   "name": "python",
   "nbconvert_exporter": "python",
   "pygments_lexer": "ipython3",
   "version": "3.7.7"
  }
 },
 "nbformat": 4,
 "nbformat_minor": 2
}
